{
  "nbformat": 4,
  "nbformat_minor": 0,
  "metadata": {
    "kernelspec": {
      "display_name": "Python 3",
      "language": "python",
      "name": "python3"
    },
    "language_info": {
      "codemirror_mode": {
        "name": "ipython",
        "version": 3
      },
      "file_extension": ".py",
      "mimetype": "text/x-python",
      "name": "python",
      "nbconvert_exporter": "python",
      "pygments_lexer": "ipython3",
      "version": "3.8.5"
    },
    "colab": {
      "name": "stackedregressor.ipynb",
      "provenance": [],
      "collapsed_sections": [],
      "include_colab_link": true
    }
  },
  "cells": [
    {
      "cell_type": "markdown",
      "metadata": {
        "id": "view-in-github",
        "colab_type": "text"
      },
      "source": [
        "<a href=\"https://colab.research.google.com/github/EEarth1270/houseprice-prediction/blob/main/stackedregressor-12-.ipynb\" target=\"_parent\"><img src=\"https://colab.research.google.com/assets/colab-badge.svg\" alt=\"Open In Colab\"/></a>"
      ]
    },
    {
      "cell_type": "code",
      "metadata": {
        "id": "BpLIL9pCp1cf",
        "outputId": "c3f654b5-5f17-4f66-8a77-8a1d2cde0a5a"
      },
      "source": [
        "import pandas as pd\n",
        "import seaborn as sns\n",
        "import matplotlib.pyplot as plt\n",
        "from sklearn.ensemble import RandomForestRegressor,GradientBoostingRegressor,VotingRegressor,StackingRegressor\n",
        "from sklearn.linear_model import Ridge, LinearRegression, BayesianRidge,ElasticNet,ARDRegression,HuberRegressor,SGDRegressor\n",
        "from sklearn.preprocessing import MinMaxScaler,OneHotEncoder\n",
        "from sklearn.model_selection import GridSearchCV\n",
        "from scipy.stats import iqr\n",
        "from pandas.api.types import CategoricalDtype \n",
        "import numpy as np\n",
        "from sklearn.model_selection import train_test_split\n",
        "from lightgbm import LGBMRegressor\n",
        "from xgboost import XGBRegressor"
      ],
      "execution_count": null,
      "outputs": [
        {
          "output_type": "stream",
          "text": [
            "/usr/lib/python3/dist-packages/dask/dataframe/utils.py:14: FutureWarning: pandas.util.testing is deprecated. Use the functions in the public API at pandas.testing instead.\n",
            "  import pandas.util.testing as tm\n"
          ],
          "name": "stderr"
        }
      ]
    },
    {
      "cell_type": "code",
      "metadata": {
        "id": "iYkuFDmpp1cf"
      },
      "source": [
        "train_dataset = pd.read_csv('../data/train.csv')"
      ],
      "execution_count": null,
      "outputs": []
    },
    {
      "cell_type": "code",
      "metadata": {
        "id": "84iJXXJZp1cf"
      },
      "source": [
        "cols_with_no_nans = []\n",
        "for col in train_dataset.columns:\n",
        "  if not train_dataset[col].isnull().any():\n",
        "    if col != 'SalePrice':\n",
        "      cols_with_no_nans.append(col)"
      ],
      "execution_count": null,
      "outputs": []
    },
    {
      "cell_type": "code",
      "metadata": {
        "id": "acXnghcxp1cf"
      },
      "source": [
        "salePrice = train_dataset['SalePrice']\n",
        "train_dataset= train_dataset[cols_with_no_nans]\n",
        "test_dataset = pd.read_csv('../data/test.csv')\n",
        "test_dataset= test_dataset[cols_with_no_nans]\n",
        "dataset =  train_dataset.append(test_dataset)"
      ],
      "execution_count": null,
      "outputs": []
    },
    {
      "cell_type": "code",
      "metadata": {
        "id": "WPPHOmXpp1cf"
      },
      "source": [
        "def oneHotEncode(df,colName):\n",
        "    for col in colName:\n",
        "        if( df[col].dtype == np.dtype('object')):\n",
        "            dummies = pd.get_dummies(df[col],prefix=col)\n",
        "            df = pd.concat([df,dummies],axis=1)\n",
        "            df.drop([col],axis = 1 , inplace=True)\n",
        "    return df"
      ],
      "execution_count": null,
      "outputs": []
    },
    {
      "cell_type": "code",
      "metadata": {
        "id": "DtjirjI4p1cf"
      },
      "source": [
        "dataset = oneHotEncode(dataset,cols_with_no_nans)"
      ],
      "execution_count": null,
      "outputs": []
    },
    {
      "cell_type": "code",
      "metadata": {
        "id": "bWDObMcUp1cf"
      },
      "source": [
        "train_dataset = dataset[:1460]\n",
        "test_dataset = dataset[1460:]\n",
        "train_dataset = pd.concat([train_dataset,salePrice],axis=1)"
      ],
      "execution_count": null,
      "outputs": []
    },
    {
      "cell_type": "code",
      "metadata": {
        "id": "rfBv4Hbkp1cf"
      },
      "source": [
        "\n",
        "train_dataset['lognorm'] = np.log10(train_dataset['SalePrice'])"
      ],
      "execution_count": null,
      "outputs": []
    },
    {
      "cell_type": "code",
      "metadata": {
        "id": "x5moOWJ0p1cg"
      },
      "source": [
        "train_ds = train_dataset"
      ],
      "execution_count": null,
      "outputs": []
    },
    {
      "cell_type": "code",
      "metadata": {
        "id": "WHECQNTCp1cg",
        "outputId": "4a54e3bc-6def-4cfa-e791-1e5e7776ceba"
      },
      "source": [
        "test_dataset.fillna(0,inplace=True)"
      ],
      "execution_count": null,
      "outputs": [
        {
          "output_type": "stream",
          "text": [
            "/home/jupyteruser/.local/lib/python3.8/site-packages/pandas/core/frame.py:4316: SettingWithCopyWarning: \n",
            "A value is trying to be set on a copy of a slice from a DataFrame\n",
            "\n",
            "See the caveats in the documentation: https://pandas.pydata.org/pandas-docs/stable/user_guide/indexing.html#returning-a-view-versus-a-copy\n",
            "  return super().fillna(\n"
          ],
          "name": "stderr"
        }
      ]
    },
    {
      "cell_type": "code",
      "metadata": {
        "id": "5Xdl5KCMp1cg"
      },
      "source": [
        "esti  = [('huber',HuberRegressor(epsilon=1.25)),('lr',LinearRegression()),\n",
        "         ('rf',RandomForestRegressor(n_estimators=1000,max_features=0.33, n_jobs=- 1)),\n",
        "         ('elas',ElasticNet()),\n",
        "         ('gb',GradientBoostingRegressor(n_estimators=10000,max_features=0.33,learning_rate=0.02)),\n",
        "         ('lgb',LGBMRegressor(n_estimators=10000,max_features=0.33,learning_rate=0.02, n_jobs=- 1)),\n",
        "         ('xgb',XGBRegressor(n_estimators=10000,max_features=0.33,learning_rate=0.02, n_jobs=- 1)),\n",
        "         ('ridge',Ridge(alpha=8)),('bayesridge',BayesianRidge()),('ard',ARDRegression())]\n",
        "reg = StackingRegressor(estimators=esti,n_jobs=-1)"
      ],
      "execution_count": null,
      "outputs": []
    },
    {
      "cell_type": "code",
      "metadata": {
        "id": "jsV_q-6Rp1cg",
        "outputId": "31fb4729-7f53-48ee-cbde-65df9649aef7"
      },
      "source": [
        "reg.fit(train_ds.iloc[:,1:-2],train_ds['lognorm'])"
      ],
      "execution_count": null,
      "outputs": [
        {
          "output_type": "execute_result",
          "data": {
            "text/plain": [
              "StackingRegressor(estimators=[('huber', HuberRegressor(epsilon=1.25)),\n",
              "                              ('lr', LinearRegression()),\n",
              "                              ('rf',\n",
              "                               RandomForestRegressor(max_features=0.33,\n",
              "                                                     n_estimators=1000,\n",
              "                                                     n_jobs=-1)),\n",
              "                              ('elas', ElasticNet()),\n",
              "                              ('gb',\n",
              "                               GradientBoostingRegressor(learning_rate=0.02,\n",
              "                                                         max_features=0.33,\n",
              "                                                         n_estimators=10000)),\n",
              "                              ('lgb',\n",
              "                               LGBMRegressor(learning_rate=0.02,\n",
              "                                             max_features=0.33,\n",
              "                                             n_estimat...\n",
              "                                            max_features=0.33,\n",
              "                                            min_child_weight=None, missing=nan,\n",
              "                                            monotone_constraints=None,\n",
              "                                            n_estimators=10000, n_jobs=-1,\n",
              "                                            num_parallel_tree=None,\n",
              "                                            random_state=None, reg_alpha=None,\n",
              "                                            reg_lambda=None,\n",
              "                                            scale_pos_weight=None,\n",
              "                                            subsample=None, tree_method=None,\n",
              "                                            validate_parameters=None,\n",
              "                                            verbosity=None)),\n",
              "                              ('ridge', Ridge(alpha=8)),\n",
              "                              ('bayesridge', BayesianRidge()),\n",
              "                              ('ard', ARDRegression())],\n",
              "                  n_jobs=-1)"
            ]
          },
          "metadata": {
            "tags": []
          },
          "execution_count": 26
        }
      ]
    },
    {
      "cell_type": "code",
      "metadata": {
        "id": "5Mxm22fMp1cg"
      },
      "source": [
        "test_dataset = test_dataset.fillna(0)"
      ],
      "execution_count": null,
      "outputs": []
    },
    {
      "cell_type": "code",
      "metadata": {
        "id": "MqDsOClSp1cg"
      },
      "source": [
        "result = reg.predict(test_dataset.iloc[:,1:])"
      ],
      "execution_count": null,
      "outputs": []
    },
    {
      "cell_type": "code",
      "metadata": {
        "id": "MH1dby0Up1cg",
        "outputId": "7882fcce-97d8-49af-b37f-a3ec5dea8f0b"
      },
      "source": [
        "print(result)"
      ],
      "execution_count": null,
      "outputs": [
        {
          "output_type": "stream",
          "text": [
            "[5.07541951 5.19713942 5.26096686 ... 5.19405197 5.04968579 5.36210569]\n"
          ],
          "name": "stdout"
        }
      ]
    },
    {
      "cell_type": "code",
      "metadata": {
        "id": "dUE9EG4Wp1cg"
      },
      "source": [
        "result = 10 ** result "
      ],
      "execution_count": null,
      "outputs": []
    },
    {
      "cell_type": "code",
      "metadata": {
        "id": "2sjI-AQgp1cg",
        "outputId": "d4a267b5-9f8c-4a05-ede4-d7ffa8644457"
      },
      "source": [
        "print(result)"
      ],
      "execution_count": null,
      "outputs": [
        {
          "output_type": "stream",
          "text": [
            "[118965.08112605 157448.82300098 182375.65338659 ... 156333.47065412\n",
            " 112120.69697992 230200.19695463]\n"
          ],
          "name": "stdout"
        }
      ]
    },
    {
      "cell_type": "code",
      "metadata": {
        "id": "kmSbC4ADp1cg"
      },
      "source": [
        "ans=pd.DataFrame({'SalePrice':result})\n",
        "submission = pd.concat([test_dataset['Id'],ans],axis=1)\n",
        "submission.to_csv('../output_ML/wait_for_score/outputstacking12.csv', index=False)"
      ],
      "execution_count": null,
      "outputs": []
    }
  ]
}