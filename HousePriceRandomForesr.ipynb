{
  "nbformat": 4,
  "nbformat_minor": 0,
  "metadata": {
    "colab": {
      "name": "HousePriceRandomForesr.ipynb",
      "provenance": [],
      "collapsed_sections": [],
      "toc_visible": true,
      "authorship_tag": "ABX9TyMv4HAz3ag0z6TmL6IPAkW4",
      "include_colab_link": true
    },
    "kernelspec": {
      "name": "python3",
      "display_name": "Python 3"
    }
  },
  "cells": [
    {
      "cell_type": "markdown",
      "metadata": {
        "id": "view-in-github",
        "colab_type": "text"
      },
      "source": [
        "<a href=\"https://colab.research.google.com/github/EEarth1270/houseprice-prediction/blob/randomforest/HousePriceRandomForesr.ipynb\" target=\"_parent\"><img src=\"https://colab.research.google.com/assets/colab-badge.svg\" alt=\"Open In Colab\"/></a>"
      ]
    },
    {
      "cell_type": "code",
      "metadata": {
        "id": "yvNjJ-EU7ysI",
        "outputId": "b25ee691-b7e0-4bb7-d00c-35dcbb8d41b8",
        "colab": {
          "base_uri": "https://localhost:8080/"
        }
      },
      "source": [
        "from google.colab import drive\n",
        "drive.mount('/content/drive')"
      ],
      "execution_count": 1,
      "outputs": [
        {
          "output_type": "stream",
          "text": [
            "Mounted at /content/drive\n"
          ],
          "name": "stdout"
        }
      ]
    },
    {
      "cell_type": "code",
      "metadata": {
        "id": "J902yTwR75xi"
      },
      "source": [
        "import pandas as pd\n",
        "import seaborn as sns\n",
        "import matplotlib.pyplot as plt\n",
        "from sklearn.ensemble import RandomForestRegressor\n",
        "from sklearn.preprocessing import MinMaxScaler,OneHotEncoder\n",
        "from scipy.stats import iqr\n",
        "from pandas.api.types import CategoricalDtype \n",
        "import numpy as np"
      ],
      "execution_count": 2,
      "outputs": []
    },
    {
      "cell_type": "code",
      "metadata": {
        "id": "4WNGYpP38C-h"
      },
      "source": [
        "train_dataset = pd.read_csv('/content/drive/My Drive/Datasci/train.csv')"
      ],
      "execution_count": 35,
      "outputs": []
    },
    {
      "cell_type": "markdown",
      "metadata": {
        "id": "jGy2_SnZ6Jna"
      },
      "source": [
        "# Pre-processing"
      ]
    },
    {
      "cell_type": "code",
      "metadata": {
        "id": "7ZTsFVGs8JpJ"
      },
      "source": [
        "corrMatrix = train_dataset.corr()\n",
        "print(corrMatrix['SalePrice'].sort_values(ascending=False))"
      ],
      "execution_count": null,
      "outputs": []
    },
    {
      "cell_type": "code",
      "metadata": {
        "id": "45KqYGQn8eu3",
        "outputId": "37112190-4df5-4321-e01f-de10c39291ed",
        "colab": {
          "base_uri": "https://localhost:8080/"
        }
      },
      "source": [
        "print(train_dataset.info())"
      ],
      "execution_count": 36,
      "outputs": [
        {
          "output_type": "stream",
          "text": [
            "<class 'pandas.core.frame.DataFrame'>\n",
            "RangeIndex: 1460 entries, 0 to 1459\n",
            "Data columns (total 81 columns):\n",
            " #   Column         Non-Null Count  Dtype  \n",
            "---  ------         --------------  -----  \n",
            " 0   Id             1460 non-null   int64  \n",
            " 1   MSSubClass     1460 non-null   int64  \n",
            " 2   MSZoning       1460 non-null   object \n",
            " 3   LotFrontage    1201 non-null   float64\n",
            " 4   LotArea        1460 non-null   int64  \n",
            " 5   Street         1460 non-null   object \n",
            " 6   Alley          91 non-null     object \n",
            " 7   LotShape       1460 non-null   object \n",
            " 8   LandContour    1460 non-null   object \n",
            " 9   Utilities      1460 non-null   object \n",
            " 10  LotConfig      1460 non-null   object \n",
            " 11  LandSlope      1460 non-null   object \n",
            " 12  Neighborhood   1460 non-null   object \n",
            " 13  Condition1     1460 non-null   object \n",
            " 14  Condition2     1460 non-null   object \n",
            " 15  BldgType       1460 non-null   object \n",
            " 16  HouseStyle     1460 non-null   object \n",
            " 17  OverallQual    1460 non-null   int64  \n",
            " 18  OverallCond    1460 non-null   int64  \n",
            " 19  YearBuilt      1460 non-null   int64  \n",
            " 20  YearRemodAdd   1460 non-null   int64  \n",
            " 21  RoofStyle      1460 non-null   object \n",
            " 22  RoofMatl       1460 non-null   object \n",
            " 23  Exterior1st    1460 non-null   object \n",
            " 24  Exterior2nd    1460 non-null   object \n",
            " 25  MasVnrType     1452 non-null   object \n",
            " 26  MasVnrArea     1452 non-null   float64\n",
            " 27  ExterQual      1460 non-null   object \n",
            " 28  ExterCond      1460 non-null   object \n",
            " 29  Foundation     1460 non-null   object \n",
            " 30  BsmtQual       1423 non-null   object \n",
            " 31  BsmtCond       1423 non-null   object \n",
            " 32  BsmtExposure   1422 non-null   object \n",
            " 33  BsmtFinType1   1423 non-null   object \n",
            " 34  BsmtFinSF1     1460 non-null   int64  \n",
            " 35  BsmtFinType2   1422 non-null   object \n",
            " 36  BsmtFinSF2     1460 non-null   int64  \n",
            " 37  BsmtUnfSF      1460 non-null   int64  \n",
            " 38  TotalBsmtSF    1460 non-null   int64  \n",
            " 39  Heating        1460 non-null   object \n",
            " 40  HeatingQC      1460 non-null   object \n",
            " 41  CentralAir     1460 non-null   object \n",
            " 42  Electrical     1459 non-null   object \n",
            " 43  1stFlrSF       1460 non-null   int64  \n",
            " 44  2ndFlrSF       1460 non-null   int64  \n",
            " 45  LowQualFinSF   1460 non-null   int64  \n",
            " 46  GrLivArea      1460 non-null   int64  \n",
            " 47  BsmtFullBath   1460 non-null   int64  \n",
            " 48  BsmtHalfBath   1460 non-null   int64  \n",
            " 49  FullBath       1460 non-null   int64  \n",
            " 50  HalfBath       1460 non-null   int64  \n",
            " 51  BedroomAbvGr   1460 non-null   int64  \n",
            " 52  KitchenAbvGr   1460 non-null   int64  \n",
            " 53  KitchenQual    1460 non-null   object \n",
            " 54  TotRmsAbvGrd   1460 non-null   int64  \n",
            " 55  Functional     1460 non-null   object \n",
            " 56  Fireplaces     1460 non-null   int64  \n",
            " 57  FireplaceQu    770 non-null    object \n",
            " 58  GarageType     1379 non-null   object \n",
            " 59  GarageYrBlt    1379 non-null   float64\n",
            " 60  GarageFinish   1379 non-null   object \n",
            " 61  GarageCars     1460 non-null   int64  \n",
            " 62  GarageArea     1460 non-null   int64  \n",
            " 63  GarageQual     1379 non-null   object \n",
            " 64  GarageCond     1379 non-null   object \n",
            " 65  PavedDrive     1460 non-null   object \n",
            " 66  WoodDeckSF     1460 non-null   int64  \n",
            " 67  OpenPorchSF    1460 non-null   int64  \n",
            " 68  EnclosedPorch  1460 non-null   int64  \n",
            " 69  3SsnPorch      1460 non-null   int64  \n",
            " 70  ScreenPorch    1460 non-null   int64  \n",
            " 71  PoolArea       1460 non-null   int64  \n",
            " 72  PoolQC         7 non-null      object \n",
            " 73  Fence          281 non-null    object \n",
            " 74  MiscFeature    54 non-null     object \n",
            " 75  MiscVal        1460 non-null   int64  \n",
            " 76  MoSold         1460 non-null   int64  \n",
            " 77  YrSold         1460 non-null   int64  \n",
            " 78  SaleType       1460 non-null   object \n",
            " 79  SaleCondition  1460 non-null   object \n",
            " 80  SalePrice      1460 non-null   int64  \n",
            "dtypes: float64(3), int64(35), object(43)\n",
            "memory usage: 924.0+ KB\n",
            "None\n"
          ],
          "name": "stdout"
        }
      ]
    },
    {
      "cell_type": "code",
      "metadata": {
        "id": "0IudjlnW2Oh8"
      },
      "source": [
        "cols_with_no_nans = []\n",
        "for col in train_dataset.columns:\n",
        "  if not train_dataset[col].isnull().any():\n",
        "    if col != 'SalePrice':\n",
        "      cols_with_no_nans.append(col)"
      ],
      "execution_count": 28,
      "outputs": []
    },
    {
      "cell_type": "code",
      "metadata": {
        "id": "eVnX5Ag92U86",
        "outputId": "e8ac5544-943b-45d4-a2a6-55447710e813",
        "colab": {
          "base_uri": "https://localhost:8080/"
        }
      },
      "source": [
        "print(cols_with_no_nans)"
      ],
      "execution_count": 29,
      "outputs": [
        {
          "output_type": "stream",
          "text": [
            "['Id', 'MSSubClass', 'MSZoning', 'LotArea', 'Street', 'LotShape', 'LandContour', 'Utilities', 'LotConfig', 'LandSlope', 'Neighborhood', 'Condition1', 'Condition2', 'BldgType', 'HouseStyle', 'OverallQual', 'OverallCond', 'YearBuilt', 'YearRemodAdd', 'RoofStyle', 'RoofMatl', 'Exterior1st', 'Exterior2nd', 'ExterQual', 'ExterCond', 'Foundation', 'BsmtFinSF1', 'BsmtFinSF2', 'BsmtUnfSF', 'TotalBsmtSF', 'Heating', 'HeatingQC', 'CentralAir', '1stFlrSF', '2ndFlrSF', 'LowQualFinSF', 'GrLivArea', 'BsmtFullBath', 'BsmtHalfBath', 'FullBath', 'HalfBath', 'BedroomAbvGr', 'KitchenAbvGr', 'KitchenQual', 'TotRmsAbvGrd', 'Functional', 'Fireplaces', 'GarageCars', 'GarageArea', 'PavedDrive', 'WoodDeckSF', 'OpenPorchSF', 'EnclosedPorch', '3SsnPorch', 'ScreenPorch', 'PoolArea', 'MiscVal', 'MoSold', 'YrSold', 'SaleType', 'SaleCondition']\n"
          ],
          "name": "stdout"
        }
      ]
    },
    {
      "cell_type": "code",
      "metadata": {
        "id": "y4UCjyDt-R9S"
      },
      "source": [
        "salePrice = train_dataset['SalePrice']"
      ],
      "execution_count": 30,
      "outputs": []
    },
    {
      "cell_type": "code",
      "metadata": {
        "id": "XAuxnBXTeR31"
      },
      "source": [
        "train_dataset= train_dataset[cols_with_no_nans]"
      ],
      "execution_count": 38,
      "outputs": []
    },
    {
      "cell_type": "code",
      "metadata": {
        "id": "uoL_1edy8Hhk"
      },
      "source": [
        "test_dataset = pd.read_csv('/content/drive/My Drive/Datasci/test.csv')"
      ],
      "execution_count": 39,
      "outputs": []
    },
    {
      "cell_type": "code",
      "metadata": {
        "id": "J7LN6adx8H-j"
      },
      "source": [
        "test_dataset= test_dataset[cols_with_no_nans]"
      ],
      "execution_count": 40,
      "outputs": []
    },
    {
      "cell_type": "code",
      "metadata": {
        "id": "gESRvneR8TjL"
      },
      "source": [
        "dataset =  train_dataset.append(test_dataset)"
      ],
      "execution_count": 42,
      "outputs": []
    },
    {
      "cell_type": "code",
      "metadata": {
        "id": "Ug_fnljD4L8d"
      },
      "source": [
        "def oneHotEncode(df,colNames):\n",
        "    for col in colNames:\n",
        "        if( df[col].dtype == np.dtype('object')):\n",
        "            dummies = pd.get_dummies(df[col],prefix=col)\n",
        "            df = pd.concat([df,dummies],axis=1)\n",
        "\n",
        "            #drop the encoded column\n",
        "            df.drop([col],axis = 1 , inplace=True)\n",
        "    return df"
      ],
      "execution_count": 8,
      "outputs": []
    },
    {
      "cell_type": "code",
      "metadata": {
        "id": "OL1XCRDe4Rfh"
      },
      "source": [
        "dataset = oneHotEncode(dataset,cols_with_no_nans)"
      ],
      "execution_count": 43,
      "outputs": []
    },
    {
      "cell_type": "code",
      "metadata": {
        "id": "eHxrrZBj4yRX",
        "outputId": "2453ab48-c608-4ed4-effb-cc60bfef391c",
        "colab": {
          "base_uri": "https://localhost:8080/"
        }
      },
      "source": [
        "print(dataset)"
      ],
      "execution_count": 44,
      "outputs": [
        {
          "output_type": "stream",
          "text": [
            "        Id  MSSubClass  ...  SaleCondition_Normal  SaleCondition_Partial\n",
            "0        1          60  ...                     1                      0\n",
            "1        2          20  ...                     1                      0\n",
            "2        3          60  ...                     1                      0\n",
            "3        4          70  ...                     0                      0\n",
            "4        5          60  ...                     1                      0\n",
            "...    ...         ...  ...                   ...                    ...\n",
            "1454  2915         160  ...                     1                      0\n",
            "1455  2916         160  ...                     0                      0\n",
            "1456  2917          20  ...                     0                      0\n",
            "1457  2918          85  ...                     1                      0\n",
            "1458  2919          60  ...                     1                      0\n",
            "\n",
            "[2919 rows x 216 columns]\n"
          ],
          "name": "stdout"
        }
      ]
    },
    {
      "cell_type": "code",
      "metadata": {
        "id": "bHtLqvme8mQ4"
      },
      "source": [
        "train_dataset = dataset[:1460]\n",
        "test_dataset = dataset[1460:]"
      ],
      "execution_count": 45,
      "outputs": []
    },
    {
      "cell_type": "code",
      "metadata": {
        "id": "O1m01ruQ8s4T",
        "outputId": "38815fb4-85bf-4326-8b57-484bc1df7433",
        "colab": {
          "base_uri": "https://localhost:8080/"
        }
      },
      "source": [
        "print(test_dataset)"
      ],
      "execution_count": 55,
      "outputs": [
        {
          "output_type": "stream",
          "text": [
            "        Id  MSSubClass  ...  SaleCondition_Normal  SaleCondition_Partial\n",
            "0     1461          20  ...                     1                      0\n",
            "1     1462          20  ...                     1                      0\n",
            "2     1463          60  ...                     1                      0\n",
            "3     1464          60  ...                     1                      0\n",
            "4     1465         120  ...                     1                      0\n",
            "...    ...         ...  ...                   ...                    ...\n",
            "1454  2915         160  ...                     1                      0\n",
            "1455  2916         160  ...                     0                      0\n",
            "1456  2917          20  ...                     0                      0\n",
            "1457  2918          85  ...                     1                      0\n",
            "1458  2919          60  ...                     1                      0\n",
            "\n",
            "[1459 rows x 216 columns]\n"
          ],
          "name": "stdout"
        }
      ]
    },
    {
      "cell_type": "code",
      "metadata": {
        "id": "tQy-Pb9jiznB"
      },
      "source": [
        "# train_dataset['MSSubClass'] = train_dataset['MSSubClass'].astype(CategoricalDtype([20,30,40,45,50,60,70,75,80,85,90,120,150,160,180,190]))\n",
        "train_dataset['OverallQual'] = train_dataset['OverallQual'].astype(CategoricalDtype([1,2,3,4,5,6,7,8,9,10]))\n",
        "# train_dataset['OverallCond'] = train_dataset['OverallCond'].astype(CategoricalDtype([1,2,3,4,5,6,7,8,9,10]))"
      ],
      "execution_count": 32,
      "outputs": []
    },
    {
      "cell_type": "code",
      "metadata": {
        "id": "vyS0-7E3b163",
        "outputId": "adc5e618-57ef-4c57-beb7-4c243b4b376d",
        "colab": {
          "base_uri": "https://localhost:8080/"
        }
      },
      "source": [
        "print(train_dataset)"
      ],
      "execution_count": null,
      "outputs": [
        {
          "output_type": "stream",
          "text": [
            "        Id  MSSubClass  ...  SaleCondition_Normal  SaleCondition_Partial\n",
            "0        1          60  ...                     1                      0\n",
            "1        2          20  ...                     1                      0\n",
            "2        3          60  ...                     1                      0\n",
            "3        4          70  ...                     0                      0\n",
            "4        5          60  ...                     1                      0\n",
            "...    ...         ...  ...                   ...                    ...\n",
            "1455  1456          60  ...                     1                      0\n",
            "1456  1457          20  ...                     1                      0\n",
            "1457  1458          70  ...                     1                      0\n",
            "1458  1459          20  ...                     1                      0\n",
            "1459  1460          20  ...                     1                      0\n",
            "\n",
            "[1460 rows x 236 columns]\n"
          ],
          "name": "stdout"
        }
      ]
    },
    {
      "cell_type": "code",
      "metadata": {
        "id": "zvdYenGNeyYK"
      },
      "source": [
        "train_dataset = pd.concat([train_dataset,salePrice],axis=1)"
      ],
      "execution_count": 11,
      "outputs": []
    },
    {
      "cell_type": "code",
      "metadata": {
        "id": "QV8TZ1sXfPUM"
      },
      "source": [
        "train_dataset.dropna(inplace=True)"
      ],
      "execution_count": null,
      "outputs": []
    },
    {
      "cell_type": "code",
      "metadata": {
        "id": "fYDcVx4gfx_2",
        "outputId": "e4634218-9c67-48c3-9336-1cd07e43cdf9",
        "colab": {
          "base_uri": "https://localhost:8080/"
        }
      },
      "source": [
        "print(train_dataset)"
      ],
      "execution_count": 12,
      "outputs": [
        {
          "output_type": "stream",
          "text": [
            "        Id  MSSubClass  ...  SaleCondition_Partial  SalePrice\n",
            "0        1          60  ...                      0     208500\n",
            "1        2          20  ...                      0     181500\n",
            "2        3          60  ...                      0     223500\n",
            "3        4          70  ...                      0     140000\n",
            "4        5          60  ...                      0     250000\n",
            "...    ...         ...  ...                    ...        ...\n",
            "1455  1456          60  ...                      0     175000\n",
            "1456  1457          20  ...                      0     210000\n",
            "1457  1458          70  ...                      0     266500\n",
            "1458  1459          20  ...                      0     142125\n",
            "1459  1460          20  ...                      0     147500\n",
            "\n",
            "[1460 rows x 217 columns]\n"
          ],
          "name": "stdout"
        }
      ]
    },
    {
      "cell_type": "code",
      "metadata": {
        "id": "LM0rbH2Eux5f",
        "outputId": "9e894f09-0ec1-49ba-c9ab-e9bf19d47376",
        "colab": {
          "base_uri": "https://localhost:8080/"
        }
      },
      "source": [
        "print(train_dataset.iloc[:,1:-1])"
      ],
      "execution_count": 56,
      "outputs": [
        {
          "output_type": "stream",
          "text": [
            "      MSSubClass  LotArea  ...  SaleCondition_Family  SaleCondition_Normal\n",
            "0             60     8450  ...                     0                     1\n",
            "1             20     9600  ...                     0                     1\n",
            "2             60    11250  ...                     0                     1\n",
            "3             70     9550  ...                     0                     0\n",
            "4             60    14260  ...                     0                     1\n",
            "...          ...      ...  ...                   ...                   ...\n",
            "1455          60     7917  ...                     0                     1\n",
            "1456          20    13175  ...                     0                     1\n",
            "1457          70     9042  ...                     0                     1\n",
            "1458          20     9717  ...                     0                     1\n",
            "1459          20     9937  ...                     0                     1\n",
            "\n",
            "[1460 rows x 214 columns]\n"
          ],
          "name": "stdout"
        }
      ]
    },
    {
      "cell_type": "code",
      "metadata": {
        "id": "xK_DrXQvhNSD",
        "outputId": "22898ae9-6abe-4ee5-8060-4d70624227ba",
        "colab": {
          "base_uri": "https://localhost:8080/"
        }
      },
      "source": [
        "train_dataset.columns"
      ],
      "execution_count": 48,
      "outputs": [
        {
          "output_type": "execute_result",
          "data": {
            "text/plain": [
              "Index(['Id', 'MSSubClass', 'LotArea', 'OverallQual', 'OverallCond',\n",
              "       'YearBuilt', 'YearRemodAdd', 'BsmtFinSF1', 'BsmtFinSF2', 'BsmtUnfSF',\n",
              "       ...\n",
              "       'SaleType_ConLw', 'SaleType_New', 'SaleType_Oth', 'SaleType_WD',\n",
              "       'SaleCondition_Abnorml', 'SaleCondition_AdjLand',\n",
              "       'SaleCondition_Alloca', 'SaleCondition_Family', 'SaleCondition_Normal',\n",
              "       'SaleCondition_Partial'],\n",
              "      dtype='object', length=216)"
            ]
          },
          "metadata": {
            "tags": []
          },
          "execution_count": 48
        }
      ]
    },
    {
      "cell_type": "markdown",
      "metadata": {
        "id": "H3Lh7Vdt6SAC"
      },
      "source": [
        "# Training"
      ]
    },
    {
      "cell_type": "code",
      "metadata": {
        "id": "jhghgVSoAXon"
      },
      "source": [
        "reg = RandomForestRegressor(n_estimators=2500,max_features=0.33,ccp_alpha=0.05,n_jobs=-1)"
      ],
      "execution_count": 105,
      "outputs": []
    },
    {
      "cell_type": "code",
      "metadata": {
        "id": "1chQ32Q4AzyK",
        "outputId": "dacedad0-41e2-4c6e-ef9c-c8403fdb0d5d",
        "colab": {
          "base_uri": "https://localhost:8080/"
        }
      },
      "source": [
        "reg.fit(train_dataset.iloc[:,1:],salePrice)"
      ],
      "execution_count": 106,
      "outputs": [
        {
          "output_type": "execute_result",
          "data": {
            "text/plain": [
              "RandomForestRegressor(bootstrap=True, ccp_alpha=0.05, criterion='mse',\n",
              "                      max_depth=None, max_features=0.33, max_leaf_nodes=None,\n",
              "                      max_samples=None, min_impurity_decrease=0.0,\n",
              "                      min_impurity_split=None, min_samples_leaf=1,\n",
              "                      min_samples_split=2, min_weight_fraction_leaf=0.0,\n",
              "                      n_estimators=2500, n_jobs=-1, oob_score=False,\n",
              "                      random_state=None, verbose=0, warm_start=False)"
            ]
          },
          "metadata": {
            "tags": []
          },
          "execution_count": 106
        }
      ]
    },
    {
      "cell_type": "code",
      "metadata": {
        "id": "vaYMs2n3gFz9"
      },
      "source": [
        "test_dataset = test_dataset.fillna(0)\n"
      ],
      "execution_count": 53,
      "outputs": []
    },
    {
      "cell_type": "code",
      "metadata": {
        "id": "Xm3AboZUBVFJ",
        "outputId": "b1e45f3e-dc3d-4980-b497-d1e1d81e5c71",
        "colab": {
          "base_uri": "https://localhost:8080/"
        }
      },
      "source": [
        "print(test_dataset[cols_with_no_nans].isna().sum())"
      ],
      "execution_count": 20,
      "outputs": [
        {
          "output_type": "stream",
          "text": [
            "Id               0\n",
            "MSSubClass       0\n",
            "MSZoning         0\n",
            "LotArea          0\n",
            "Street           0\n",
            "                ..\n",
            "MiscVal          0\n",
            "MoSold           0\n",
            "YrSold           0\n",
            "SaleType         0\n",
            "SaleCondition    0\n",
            "Length: 61, dtype: int64\n"
          ],
          "name": "stdout"
        }
      ]
    },
    {
      "cell_type": "code",
      "metadata": {
        "id": "ajIHgqx7g0Ac",
        "outputId": "bed7cc88-05e9-4217-c4d2-706fbd2be49c",
        "colab": {
          "base_uri": "https://localhost:8080/"
        }
      },
      "source": [
        "print(test_dataset.iloc[:,1:])"
      ],
      "execution_count": 102,
      "outputs": [
        {
          "output_type": "stream",
          "text": [
            "      MSSubClass  LotArea  ...  SaleCondition_Normal  SaleCondition_Partial\n",
            "0             20    11622  ...                     1                      0\n",
            "1             20    14267  ...                     1                      0\n",
            "2             60    13830  ...                     1                      0\n",
            "3             60     9978  ...                     1                      0\n",
            "4            120     5005  ...                     1                      0\n",
            "...          ...      ...  ...                   ...                    ...\n",
            "1454         160     1936  ...                     1                      0\n",
            "1455         160     1894  ...                     0                      0\n",
            "1456          20    20000  ...                     0                      0\n",
            "1457          85    10441  ...                     1                      0\n",
            "1458          60     9627  ...                     1                      0\n",
            "\n",
            "[1459 rows x 215 columns]\n"
          ],
          "name": "stdout"
        }
      ]
    },
    {
      "cell_type": "markdown",
      "metadata": {
        "id": "ec7Ll8tDEir2"
      },
      "source": [
        "# Testing"
      ]
    },
    {
      "cell_type": "code",
      "metadata": {
        "id": "CeMwrVHaBE0i"
      },
      "source": [
        "result = reg.predict(test_dataset.iloc[:,1:])"
      ],
      "execution_count": 107,
      "outputs": []
    },
    {
      "cell_type": "code",
      "metadata": {
        "id": "SOZiDZUSCNDT",
        "outputId": "7d87721d-494a-4a05-9e98-ec9bc7215a64",
        "colab": {
          "base_uri": "https://localhost:8080/"
        }
      },
      "source": [
        "print(result)"
      ],
      "execution_count": 108,
      "outputs": [
        {
          "output_type": "stream",
          "text": [
            "[126836.8632 156175.5488 177541.0528 ... 161118.7908 115683.3964\n",
            " 229940.662 ]\n"
          ],
          "name": "stdout"
        }
      ]
    },
    {
      "cell_type": "code",
      "metadata": {
        "id": "kcrdmmHBCVhj"
      },
      "source": [
        "ans=pd.DataFrame({'SalePrice':result})\n",
        "submission = pd.concat([test_dataset['Id'],ans],axis=1)\n",
        "submission.to_csv('/content/drive/My Drive/Datasci/outputrandom_forest25.csv', index=False)"
      ],
      "execution_count": 109,
      "outputs": []
    }
  ]
}