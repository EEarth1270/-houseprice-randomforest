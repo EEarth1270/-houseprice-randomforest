{
  "nbformat": 4,
  "nbformat_minor": 0,
  "metadata": {
    "colab": {
      "name": "HousePriceRandomForesr.ipynb",
      "provenance": [],
      "collapsed_sections": [
        "jGy2_SnZ6Jna",
        "CHW4v4X7E9EW"
      ],
      "toc_visible": true,
      "authorship_tag": "ABX9TyM0KSIC5DsDRpL5zk4i6Ezx",
      "include_colab_link": true
    },
    "kernelspec": {
      "name": "python3",
      "display_name": "Python 3"
    }
  },
  "cells": [
    {
      "cell_type": "markdown",
      "metadata": {
        "id": "view-in-github",
        "colab_type": "text"
      },
      "source": [
        "<a href=\"https://colab.research.google.com/github/EEarth1270/houseprice-prediction/blob/randomforest/HousePriceRandomForesr.ipynb\" target=\"_parent\"><img src=\"https://colab.research.google.com/assets/colab-badge.svg\" alt=\"Open In Colab\"/></a>"
      ]
    },
    {
      "cell_type": "code",
      "metadata": {
        "id": "yvNjJ-EU7ysI",
        "outputId": "7e2d0a7c-c5dd-4c95-c041-039cce5dd026",
        "colab": {
          "base_uri": "https://localhost:8080/"
        }
      },
      "source": [
        "from google.colab import drive\n",
        "drive.mount('/content/drive')"
      ],
      "execution_count": 1,
      "outputs": [
        {
          "output_type": "stream",
          "text": [
            "Mounted at /content/drive\n"
          ],
          "name": "stdout"
        }
      ]
    },
    {
      "cell_type": "code",
      "metadata": {
        "id": "J902yTwR75xi"
      },
      "source": [
        "import pandas as pd\n",
        "import seaborn as sns\n",
        "import matplotlib.pyplot as plt\n",
        "from sklearn.ensemble import RandomForestRegressor\n",
        "from sklearn.preprocessing import MinMaxScaler,OneHotEncoder\n",
        "from scipy.stats import iqr\n",
        "from pandas.api.types import CategoricalDtype \n"
      ],
      "execution_count": 2,
      "outputs": []
    },
    {
      "cell_type": "code",
      "metadata": {
        "id": "4WNGYpP38C-h"
      },
      "source": [
        "train_dataset = pd.read_csv('/content/drive/My Drive/Datasci/train.csv')"
      ],
      "execution_count": 156,
      "outputs": []
    },
    {
      "cell_type": "markdown",
      "metadata": {
        "id": "jGy2_SnZ6Jna"
      },
      "source": [
        "# Pre-processing"
      ]
    },
    {
      "cell_type": "code",
      "metadata": {
        "id": "7ZTsFVGs8JpJ",
        "outputId": "455c30a6-a18f-4a34-98ae-df5a30b90597",
        "colab": {
          "base_uri": "https://localhost:8080/"
        }
      },
      "source": [
        "corrMatrix = train_dataset.corr()\n",
        "print(corrMatrix['SalePrice'].sort_values(ascending=False))"
      ],
      "execution_count": 110,
      "outputs": [
        {
          "output_type": "stream",
          "text": [
            "SalePrice        1.000000\n",
            "OverallQual      0.790982\n",
            "GrLivArea        0.708624\n",
            "GarageCars       0.640409\n",
            "GarageArea       0.623431\n",
            "TotalBsmtSF      0.613581\n",
            "1stFlrSF         0.605852\n",
            "FullBath         0.560664\n",
            "TotRmsAbvGrd     0.533723\n",
            "YearBuilt        0.522897\n",
            "YearRemodAdd     0.507101\n",
            "GarageYrBlt      0.486362\n",
            "MasVnrArea       0.477493\n",
            "Fireplaces       0.466929\n",
            "BsmtFinSF1       0.386420\n",
            "LotFrontage      0.351799\n",
            "WoodDeckSF       0.324413\n",
            "2ndFlrSF         0.319334\n",
            "OpenPorchSF      0.315856\n",
            "HalfBath         0.284108\n",
            "LotArea          0.263843\n",
            "BsmtFullBath     0.227122\n",
            "BsmtUnfSF        0.214479\n",
            "BedroomAbvGr     0.168213\n",
            "ScreenPorch      0.111447\n",
            "PoolArea         0.092404\n",
            "MoSold           0.046432\n",
            "3SsnPorch        0.044584\n",
            "BsmtFinSF2      -0.011378\n",
            "BsmtHalfBath    -0.016844\n",
            "MiscVal         -0.021190\n",
            "Id              -0.021917\n",
            "LowQualFinSF    -0.025606\n",
            "YrSold          -0.028923\n",
            "OverallCond     -0.077856\n",
            "MSSubClass      -0.084284\n",
            "EnclosedPorch   -0.128578\n",
            "KitchenAbvGr    -0.135907\n",
            "Name: SalePrice, dtype: float64\n"
          ],
          "name": "stdout"
        }
      ]
    },
    {
      "cell_type": "code",
      "metadata": {
        "id": "45KqYGQn8eu3"
      },
      "source": [
        "print(train_dataset.info())"
      ],
      "execution_count": null,
      "outputs": []
    },
    {
      "cell_type": "code",
      "metadata": {
        "id": "OYfcqFzE_KXp"
      },
      "source": [
        "# a=pd.isna(train_dataset).sum() > 0\n",
        "# text_file = open(\"/content/drive/My Drive/Datasci/out4.txt\", \"w\")\n",
        "# n = text_file.write(a.to_string())\n",
        "# text_file.close()"
      ],
      "execution_count": null,
      "outputs": []
    },
    {
      "cell_type": "code",
      "metadata": {
        "id": "3zABehECpipI"
      },
      "source": [
        "# train_dataset['LotFrontage'].fillna(0,inplace=True)"
      ],
      "execution_count": 5,
      "outputs": []
    },
    {
      "cell_type": "code",
      "metadata": {
        "id": "y4UCjyDt-R9S"
      },
      "source": [
        "col = ['Id','OverallQual','TotalBsmtSF','GrLivArea','GarageCars','GarageArea','1stFlrSF']\n",
        "# col = ['Id','MSSubClass','LotArea','LotFrontage','OverallQual','TotalBsmtSF','GrLivArea','GarageCars','GarageArea']\n",
        "salePrice = train_dataset['SalePrice']"
      ],
      "execution_count": 161,
      "outputs": []
    },
    {
      "cell_type": "code",
      "metadata": {
        "id": "XAuxnBXTeR31"
      },
      "source": [
        "train_dataset= train_dataset[col]"
      ],
      "execution_count": 162,
      "outputs": []
    },
    {
      "cell_type": "markdown",
      "metadata": {
        "id": "8XpGV2AHycfT"
      },
      "source": [
        "Cleaning Data"
      ]
    },
    {
      "cell_type": "markdown",
      "metadata": {
        "id": "dNtrWv_y80qH"
      },
      "source": [
        "Remove Outlier with IQR\n"
      ]
    },
    {
      "cell_type": "code",
      "metadata": {
        "id": "-FpW_Q9tOjto",
        "outputId": "2dc3f8bc-9dec-4354-a98e-d2253e81ec6d",
        "colab": {
          "base_uri": "https://localhost:8080/",
          "height": 349
        }
      },
      "source": [
        "sns.boxplot(train_dataset['1stFlrSF'])"
      ],
      "execution_count": 166,
      "outputs": [
        {
          "output_type": "stream",
          "text": [
            "/usr/local/lib/python3.6/dist-packages/seaborn/_decorators.py:43: FutureWarning: Pass the following variable as a keyword arg: x. From version 0.12, the only valid positional argument will be `data`, and passing other arguments without an explicit keyword will result in an error or misinterpretation.\n",
            "  FutureWarning\n"
          ],
          "name": "stderr"
        },
        {
          "output_type": "execute_result",
          "data": {
            "text/plain": [
              "<matplotlib.axes._subplots.AxesSubplot at 0x7f5d2d89fc88>"
            ]
          },
          "metadata": {
            "tags": []
          },
          "execution_count": 166
        },
        {
          "output_type": "display_data",
          "data": {
            "image/png": "[encoded data removed]",
            "text/plain": [
              "<Figure size 432x288 with 1 Axes>"
            ]
          },
          "metadata": {
            "tags": [],
            "needs_background": "light"
          }
        }
      ]
    },
    {
      "cell_type": "code",
      "metadata": {
        "id": "6uy0Fk0eOA3z",
        "outputId": "eec8eacb-0a07-45a4-e448-e0cfce8e00bb",
        "colab": {
          "base_uri": "https://localhost:8080/"
        }
      },
      "source": [
        "\n",
        "iqr_1stFlrSF = iqr(train_dataset['1stFlrSF']) *1.5\n",
        "Q75 = train_dataset['1stFlrSF'].quantile(0.75) +iqr_1stFlrSF\n",
        "Q25 = train_dataset['1stFlrSF'].quantile(0.25) -iqr_1stFlrSF\n",
        "print(iqr_1stFlrSF)\n",
        "print(Q25,Q75)"
      ],
      "execution_count": 164,
      "outputs": [
        {
          "output_type": "stream",
          "text": [
            "763.875\n",
            "118.125 2155.125\n"
          ],
          "name": "stdout"
        }
      ]
    },
    {
      "cell_type": "code",
      "metadata": {
        "id": "8uab4CQkOqiI"
      },
      "source": [
        "train_dataset = train_dataset[train_dataset['1stFlrSF']<2919]"
      ],
      "execution_count": 167,
      "outputs": []
    },
    {
      "cell_type": "code",
      "metadata": {
        "id": "04GwaLUN1OIu",
        "outputId": "c3aae187-2921-44ff-c4e2-7a8e33952d47",
        "colab": {
          "base_uri": "https://localhost:8080/",
          "height": 349
        }
      },
      "source": [
        "sns.boxplot(train_dataset['LotArea'])"
      ],
      "execution_count": 67,
      "outputs": [
        {
          "output_type": "stream",
          "text": [
            "/usr/local/lib/python3.6/dist-packages/seaborn/_decorators.py:43: FutureWarning: Pass the following variable as a keyword arg: x. From version 0.12, the only valid positional argument will be `data`, and passing other arguments without an explicit keyword will result in an error or misinterpretation.\n",
            "  FutureWarning\n"
          ],
          "name": "stderr"
        },
        {
          "output_type": "execute_result",
          "data": {
            "text/plain": [
              "<matplotlib.axes._subplots.AxesSubplot at 0x7f5d36c39358>"
            ]
          },
          "metadata": {
            "tags": []
          },
          "execution_count": 67
        },
        {
          "output_type": "display_data",
          "data": {
            "image/png": "[encoded data removed]",
            "text/plain": [
              "<Figure size 432x288 with 1 Axes>"
            ]
          },
          "metadata": {
            "tags": [],
            "needs_background": "light"
          }
        }
      ]
    },
    {
      "cell_type": "code",
      "metadata": {
        "id": "VtuS3IS46XlJ",
        "outputId": "23b805af-e4ac-4dba-e992-352e6e378d91",
        "colab": {
          "base_uri": "https://localhost:8080/"
        }
      },
      "source": [
        "iqr_lotArea = iqr(train_dataset['LotArea']) *1.5\n",
        "Q75 = train_dataset['LotArea'].quantile(0.75) +iqr_lotArea\n",
        "Q25 = train_dataset['LotArea'].quantile(0.25) -iqr_lotArea\n",
        "print(iqr_lotArea)\n",
        "print(Q25,Q75)"
      ],
      "execution_count": null,
      "outputs": [
        {
          "output_type": "stream",
          "text": [
            "6072.0\n",
            "1481.5 17673.5\n"
          ],
          "name": "stdout"
        }
      ]
    },
    {
      "cell_type": "code",
      "metadata": {
        "id": "z-2-rczl8GxK"
      },
      "source": [
        "# train_dataset = train_dataset[train_dataset['LotArea']>1481.5]\n",
        "train_dataset = train_dataset[train_dataset['LotArea']<17673.5]"
      ],
      "execution_count": 68,
      "outputs": []
    },
    {
      "cell_type": "code",
      "metadata": {
        "id": "EhWvJs9QATYD",
        "outputId": "6369f558-61a4-480f-c8e8-962cb707e971",
        "colab": {
          "base_uri": "https://localhost:8080/",
          "height": 349
        }
      },
      "source": [
        "sns.boxplot(train_dataset['LotFrontage'])"
      ],
      "execution_count": 13,
      "outputs": [
        {
          "output_type": "stream",
          "text": [
            "/usr/local/lib/python3.6/dist-packages/seaborn/_decorators.py:43: FutureWarning: Pass the following variable as a keyword arg: x. From version 0.12, the only valid positional argument will be `data`, and passing other arguments without an explicit keyword will result in an error or misinterpretation.\n",
            "  FutureWarning\n"
          ],
          "name": "stderr"
        },
        {
          "output_type": "execute_result",
          "data": {
            "text/plain": [
              "<matplotlib.axes._subplots.AxesSubplot at 0x7f5d38044550>"
            ]
          },
          "metadata": {
            "tags": []
          },
          "execution_count": 13
        },
        {
          "output_type": "display_data",
          "data": {
            "image/png": "[encoded data removed]",
            "text/plain": [
              "<Figure size 432x288 with 1 Axes>"
            ]
          },
          "metadata": {
            "tags": [],
            "needs_background": "light"
          }
        }
      ]
    },
    {
      "cell_type": "code",
      "metadata": {
        "id": "-8oehCyR9qxx",
        "outputId": "8373c167-03c6-4b27-a719-411b7bd56da8",
        "colab": {
          "base_uri": "https://localhost:8080/"
        }
      },
      "source": [
        "iqr_lotFrontage = iqr(train_dataset['LotFrontage']) *1.5\n",
        "Q75 = train_dataset['LotFrontage'].quantile(0.75)\n",
        "Q25 = train_dataset['LotFrontage'].quantile(0.25)\n",
        "print(iqr_lotFrontage)\n",
        "print(Q25,Q75)"
      ],
      "execution_count": null,
      "outputs": [
        {
          "output_type": "stream",
          "text": [
            "52.5\n",
            "43.0 78.0\n"
          ],
          "name": "stdout"
        }
      ]
    },
    {
      "cell_type": "code",
      "metadata": {
        "id": "GfHElQOn-lFE"
      },
      "source": [
        "train_dataset = train_dataset[train_dataset['LotFrontage']<130.5]\n",
        "# train_dataset = train_dataset[train_dataset['LotFrontage']>9]"
      ],
      "execution_count": 12,
      "outputs": []
    },
    {
      "cell_type": "code",
      "metadata": {
        "id": "Ar-JKy4C--LD",
        "outputId": "ebd26c25-5e8d-47d5-b9ab-756aee79f221",
        "colab": {
          "base_uri": "https://localhost:8080/",
          "height": 349
        }
      },
      "source": [
        "sns.boxplot(train_dataset['TotalBsmtSF'])"
      ],
      "execution_count": 168,
      "outputs": [
        {
          "output_type": "stream",
          "text": [
            "/usr/local/lib/python3.6/dist-packages/seaborn/_decorators.py:43: FutureWarning: Pass the following variable as a keyword arg: x. From version 0.12, the only valid positional argument will be `data`, and passing other arguments without an explicit keyword will result in an error or misinterpretation.\n",
            "  FutureWarning\n"
          ],
          "name": "stderr"
        },
        {
          "output_type": "execute_result",
          "data": {
            "text/plain": [
              "<matplotlib.axes._subplots.AxesSubplot at 0x7f5d2d930eb8>"
            ]
          },
          "metadata": {
            "tags": []
          },
          "execution_count": 168
        },
        {
          "output_type": "display_data",
          "data": {
            "image/png": "[encoded data removed]",
            "text/plain": [
              "<Figure size 432x288 with 1 Axes>"
            ]
          },
          "metadata": {
            "tags": [],
            "needs_background": "light"
          }
        }
      ]
    },
    {
      "cell_type": "code",
      "metadata": {
        "id": "RBGHGqx2_OaY",
        "outputId": "80e13c0b-45a2-4ffa-f092-fb025c891f55",
        "colab": {
          "base_uri": "https://localhost:8080/"
        }
      },
      "source": [
        "iqr_TotalBsmtSF = iqr(train_dataset['TotalBsmtSF']) *1.5\n",
        "Q75 = train_dataset['TotalBsmtSF'].quantile(0.75)\n",
        "Q25 = train_dataset['TotalBsmtSF'].quantile(0.25)\n",
        "print(iqr_TotalBsmtSF)\n",
        "print(Q25,Q75)"
      ],
      "execution_count": null,
      "outputs": [
        {
          "output_type": "stream",
          "text": [
            "710.625\n",
            "793.0 1266.75\n"
          ],
          "name": "stdout"
        }
      ]
    },
    {
      "cell_type": "code",
      "metadata": {
        "id": "ERp9WhrP_byN"
      },
      "source": [
        "train_dataset = train_dataset[train_dataset['TotalBsmtSF']<1980.5]\n",
        "# train_dataset = train_dataset[train_dataset['TotalBsmtSF']>80.5]"
      ],
      "execution_count": 169,
      "outputs": []
    },
    {
      "cell_type": "code",
      "metadata": {
        "id": "ZxQlYyutBcmR",
        "outputId": "a1b4c516-cf46-4c85-d02a-8b7f95369c43",
        "colab": {
          "base_uri": "https://localhost:8080/",
          "height": 349
        }
      },
      "source": [
        "sns.boxplot(train_dataset['GrLivArea'])"
      ],
      "execution_count": 170,
      "outputs": [
        {
          "output_type": "stream",
          "text": [
            "/usr/local/lib/python3.6/dist-packages/seaborn/_decorators.py:43: FutureWarning: Pass the following variable as a keyword arg: x. From version 0.12, the only valid positional argument will be `data`, and passing other arguments without an explicit keyword will result in an error or misinterpretation.\n",
            "  FutureWarning\n"
          ],
          "name": "stderr"
        },
        {
          "output_type": "execute_result",
          "data": {
            "text/plain": [
              "<matplotlib.axes._subplots.AxesSubplot at 0x7f5d2d77c8d0>"
            ]
          },
          "metadata": {
            "tags": []
          },
          "execution_count": 170
        },
        {
          "output_type": "display_data",
          "data": {
            "image/png": "[encoded data removed]",
            "text/plain": [
              "<Figure size 432x288 with 1 Axes>"
            ]
          },
          "metadata": {
            "tags": [],
            "needs_background": "light"
          }
        }
      ]
    },
    {
      "cell_type": "code",
      "metadata": {
        "id": "UrlWKSEIBuTz",
        "outputId": "182fa620-faab-40d5-d7e5-1d1623f312e3",
        "colab": {
          "base_uri": "https://localhost:8080/"
        }
      },
      "source": [
        "iqr_GrLivArea = iqr(train_dataset['GrLivArea']) *1.5\n",
        "Q75 = train_dataset['GrLivArea'].quantile(0.75)\n",
        "Q25 = train_dataset['GrLivArea'].quantile(0.25)\n",
        "print(iqr_GrLivArea)\n",
        "print(Q25,Q75)"
      ],
      "execution_count": null,
      "outputs": [
        {
          "output_type": "stream",
          "text": [
            "915.375\n",
            "1117.75 1728.0\n"
          ],
          "name": "stdout"
        }
      ]
    },
    {
      "cell_type": "code",
      "metadata": {
        "id": "Ww8_9WuZCC_m"
      },
      "source": [
        "train_dataset = train_dataset[train_dataset['GrLivArea']<2615]\n",
        "# train_dataset = train_dataset[train_dataset['GrLivArea']>239]"
      ],
      "execution_count": 117,
      "outputs": []
    },
    {
      "cell_type": "code",
      "metadata": {
        "id": "L1ABmEkxCQMD",
        "outputId": "78b50f51-a75d-488e-8da4-65c89c69a807",
        "colab": {
          "base_uri": "https://localhost:8080/",
          "height": 349
        }
      },
      "source": [
        "sns.boxplot(train_dataset['GarageCars'])"
      ],
      "execution_count": 118,
      "outputs": [
        {
          "output_type": "stream",
          "text": [
            "/usr/local/lib/python3.6/dist-packages/seaborn/_decorators.py:43: FutureWarning: Pass the following variable as a keyword arg: x. From version 0.12, the only valid positional argument will be `data`, and passing other arguments without an explicit keyword will result in an error or misinterpretation.\n",
            "  FutureWarning\n"
          ],
          "name": "stderr"
        },
        {
          "output_type": "execute_result",
          "data": {
            "text/plain": [
              "<matplotlib.axes._subplots.AxesSubplot at 0x7f5d2dbb49b0>"
            ]
          },
          "metadata": {
            "tags": []
          },
          "execution_count": 118
        },
        {
          "output_type": "display_data",
          "data": {
            "image/png": "[encoded data removed]",
            "text/plain": [
              "<Figure size 432x288 with 1 Axes>"
            ]
          },
          "metadata": {
            "tags": [],
            "needs_background": "light"
          }
        }
      ]
    },
    {
      "cell_type": "code",
      "metadata": {
        "id": "RC-CzDfTDZ1-",
        "outputId": "b5f4ea69-1bc4-4d5b-ac5b-7f81f11ffb2c",
        "colab": {
          "base_uri": "https://localhost:8080/",
          "height": 349
        }
      },
      "source": [
        "sns.boxplot(train_dataset['GarageArea'])"
      ],
      "execution_count": 119,
      "outputs": [
        {
          "output_type": "stream",
          "text": [
            "/usr/local/lib/python3.6/dist-packages/seaborn/_decorators.py:43: FutureWarning: Pass the following variable as a keyword arg: x. From version 0.12, the only valid positional argument will be `data`, and passing other arguments without an explicit keyword will result in an error or misinterpretation.\n",
            "  FutureWarning\n"
          ],
          "name": "stderr"
        },
        {
          "output_type": "execute_result",
          "data": {
            "text/plain": [
              "<matplotlib.axes._subplots.AxesSubplot at 0x7f5d2db1bcc0>"
            ]
          },
          "metadata": {
            "tags": []
          },
          "execution_count": 119
        },
        {
          "output_type": "display_data",
          "data": {
            "image/png": "[encoded data removed]",
            "text/plain": [
              "<Figure size 432x288 with 1 Axes>"
            ]
          },
          "metadata": {
            "tags": [],
            "needs_background": "light"
          }
        }
      ]
    },
    {
      "cell_type": "code",
      "metadata": {
        "id": "Dt-qG27XEjEf",
        "outputId": "0acb8fd2-114f-4a11-b64a-41c992467552",
        "colab": {
          "base_uri": "https://localhost:8080/"
        }
      },
      "source": [
        "iqr_GarageArea = iqr(train_dataset['GarageArea']) *1.5\n",
        "Q75 = train_dataset['GarageArea'].quantile(0.75)\n",
        "Q25 = train_dataset['GarageArea'].quantile(0.25)\n",
        "print(iqr_GarageArea)\n",
        "print(Q25,Q75)"
      ],
      "execution_count": null,
      "outputs": [
        {
          "output_type": "stream",
          "text": [
            "396.0\n",
            "308.0 572.0\n"
          ],
          "name": "stdout"
        }
      ]
    },
    {
      "cell_type": "code",
      "metadata": {
        "id": "yQMoIbISEqwo"
      },
      "source": [
        "train_dataset = train_dataset[train_dataset['GarageArea']<978]"
      ],
      "execution_count": 120,
      "outputs": []
    },
    {
      "cell_type": "code",
      "metadata": {
        "id": "tQy-Pb9jiznB"
      },
      "source": [
        "# train_dataset['MSSubClass'] = train_dataset['MSSubClass'].astype(CategoricalDtype([20,30,40,45,50,60,70,75,80,85,90,120,150,160,180,190]))\n",
        "train_dataset['OverallQual'] = train_dataset['OverallQual'].astype(CategoricalDtype([1,2,3,4,5,6,7,8,9,10]))\n",
        "# train_dataset['OverallCond'] = train_dataset['OverallCond'].astype(CategoricalDtype([1,2,3,4,5,6,7,8,9,10]))"
      ],
      "execution_count": 171,
      "outputs": []
    },
    {
      "cell_type": "markdown",
      "metadata": {
        "id": "CHW4v4X7E9EW"
      },
      "source": [
        "# Encoding catagorical data"
      ]
    },
    {
      "cell_type": "code",
      "metadata": {
        "id": "d1VLkHk3YOX6"
      },
      "source": [
        "train_dataset = pd.concat([train_dataset,pd.get_dummies(train_dataset['MSSubClass'],prefix='MSSubClass',drop_first=True)],axis=1)"
      ],
      "execution_count": null,
      "outputs": []
    },
    {
      "cell_type": "code",
      "metadata": {
        "id": "57MpqcoZbOQR"
      },
      "source": [
        "train_dataset.drop(['MSSubClass'],axis=1, inplace=True)"
      ],
      "execution_count": 22,
      "outputs": []
    },
    {
      "cell_type": "code",
      "metadata": {
        "id": "hEUbUP78baYS"
      },
      "source": [
        "train_dataset = pd.concat([train_dataset,pd.get_dummies(train_dataset['OverallQual'],prefix='OverallQual',drop_first=True)],axis=1)"
      ],
      "execution_count": 139,
      "outputs": []
    },
    {
      "cell_type": "code",
      "metadata": {
        "id": "ZoFiF90TbrS9"
      },
      "source": [
        "train_dataset.drop(['OverallQual'],axis=1, inplace=True)"
      ],
      "execution_count": 140,
      "outputs": []
    },
    {
      "cell_type": "code",
      "metadata": {
        "id": "dbnOjHGzburj"
      },
      "source": [
        "# train_dataset = pd.concat([train_dataset,pd.get_dummies(train_dataset['OverallCond'],prefix='OverallCond',drop_first=True)],axis=1)"
      ],
      "execution_count": null,
      "outputs": []
    },
    {
      "cell_type": "code",
      "metadata": {
        "id": "t1d3ttRabzO2"
      },
      "source": [
        "# train_dataset.drop(['OverallCond'],axis=1, inplace=True)"
      ],
      "execution_count": null,
      "outputs": []
    },
    {
      "cell_type": "code",
      "metadata": {
        "id": "vyS0-7E3b163",
        "outputId": "8f105755-59b1-4a69-e0ee-b82d5f4fc4e2",
        "colab": {
          "base_uri": "https://localhost:8080/"
        }
      },
      "source": [
        "print(train_dataset)"
      ],
      "execution_count": 172,
      "outputs": [
        {
          "output_type": "stream",
          "text": [
            "        Id OverallQual  TotalBsmtSF  ...  GarageCars  GarageArea  1stFlrSF\n",
            "0        1           7          856  ...           2         548       856\n",
            "1        2           6         1262  ...           2         460      1262\n",
            "2        3           7          920  ...           2         608       920\n",
            "3        4           7          756  ...           3         642       961\n",
            "4        5           8         1145  ...           3         836      1145\n",
            "...    ...         ...          ...  ...         ...         ...       ...\n",
            "1455  1456           6          953  ...           2         460       953\n",
            "1456  1457           6         1542  ...           2         500      2073\n",
            "1457  1458           7         1152  ...           1         252      1188\n",
            "1458  1459           5         1078  ...           1         240      1078\n",
            "1459  1460           5         1256  ...           1         276      1256\n",
            "\n",
            "[1427 rows x 7 columns]\n"
          ],
          "name": "stdout"
        }
      ]
    },
    {
      "cell_type": "code",
      "metadata": {
        "id": "zvdYenGNeyYK"
      },
      "source": [
        "train_dataset = pd.concat([train_dataset,salePrice],axis=1)"
      ],
      "execution_count": 173,
      "outputs": []
    },
    {
      "cell_type": "markdown",
      "metadata": {
        "id": "H3Lh7Vdt6SAC"
      },
      "source": [
        "# Training"
      ]
    },
    {
      "cell_type": "code",
      "metadata": {
        "id": "QV8TZ1sXfPUM"
      },
      "source": [
        "train_dataset.dropna(inplace=True)"
      ],
      "execution_count": 174,
      "outputs": []
    },
    {
      "cell_type": "code",
      "metadata": {
        "id": "fYDcVx4gfx_2",
        "outputId": "970a8409-7576-4fc3-fc7b-73bc7cb07b1a",
        "colab": {
          "base_uri": "https://localhost:8080/"
        }
      },
      "source": [
        "print(train_dataset)"
      ],
      "execution_count": 175,
      "outputs": [
        {
          "output_type": "stream",
          "text": [
            "          Id OverallQual  TotalBsmtSF  ...  GarageArea  1stFlrSF  SalePrice\n",
            "0        1.0           7        856.0  ...       548.0     856.0     208500\n",
            "1        2.0           6       1262.0  ...       460.0    1262.0     181500\n",
            "2        3.0           7        920.0  ...       608.0     920.0     223500\n",
            "3        4.0           7        756.0  ...       642.0     961.0     140000\n",
            "4        5.0           8       1145.0  ...       836.0    1145.0     250000\n",
            "...      ...         ...          ...  ...         ...       ...        ...\n",
            "1455  1456.0           6        953.0  ...       460.0     953.0     175000\n",
            "1456  1457.0           6       1542.0  ...       500.0    2073.0     210000\n",
            "1457  1458.0           7       1152.0  ...       252.0    1188.0     266500\n",
            "1458  1459.0           5       1078.0  ...       240.0    1078.0     142125\n",
            "1459  1460.0           5       1256.0  ...       276.0    1256.0     147500\n",
            "\n",
            "[1427 rows x 8 columns]\n"
          ],
          "name": "stdout"
        }
      ]
    },
    {
      "cell_type": "code",
      "metadata": {
        "id": "LM0rbH2Eux5f",
        "outputId": "35fe5b47-4d64-41b6-f85e-e9caa4105f66",
        "colab": {
          "base_uri": "https://localhost:8080/"
        }
      },
      "source": [
        "print(train_dataset.iloc[:,1:-1])"
      ],
      "execution_count": 144,
      "outputs": [
        {
          "output_type": "stream",
          "text": [
            "      TotalBsmtSF  GrLivArea  ...  OverallQual_9  OverallQual_10\n",
            "0             856       1710  ...              0               0\n",
            "1            1262       1262  ...              0               0\n",
            "2             920       1786  ...              0               0\n",
            "3             756       1717  ...              0               0\n",
            "4            1145       2198  ...              0               0\n",
            "...           ...        ...  ...            ...             ...\n",
            "1455          953       1647  ...              0               0\n",
            "1456         1542       2073  ...              0               0\n",
            "1457         1152       2340  ...              0               0\n",
            "1458         1078       1078  ...              0               0\n",
            "1459         1256       1256  ...              0               0\n",
            "\n",
            "[1460 rows x 13 columns]\n"
          ],
          "name": "stdout"
        }
      ]
    },
    {
      "cell_type": "code",
      "metadata": {
        "id": "xK_DrXQvhNSD",
        "outputId": "0ef7b803-ec7c-40f6-dbd7-44cf77595a32",
        "colab": {
          "base_uri": "https://localhost:8080/"
        }
      },
      "source": [
        "train_dataset.columns"
      ],
      "execution_count": 53,
      "outputs": [
        {
          "output_type": "execute_result",
          "data": {
            "text/plain": [
              "Index(['Id', 'LotArea', 'TotalBsmtSF', 'GrLivArea', 'GarageCars', 'GarageArea',\n",
              "       'OverallQual_2', 'OverallQual_3', 'OverallQual_4', 'OverallQual_5',\n",
              "       'OverallQual_6', 'OverallQual_7', 'OverallQual_8', 'OverallQual_9',\n",
              "       'OverallQual_10', 'SalePrice'],\n",
              "      dtype='object')"
            ]
          },
          "metadata": {
            "tags": []
          },
          "execution_count": 53
        }
      ]
    },
    {
      "cell_type": "code",
      "metadata": {
        "id": "jhghgVSoAXon"
      },
      "source": [
        "reg = RandomForestRegressor(n_estimators=100)"
      ],
      "execution_count": 176,
      "outputs": []
    },
    {
      "cell_type": "code",
      "metadata": {
        "id": "1chQ32Q4AzyK",
        "outputId": "f1425b84-2bbf-4d3b-d7ab-dfacd97b4d8f",
        "colab": {
          "base_uri": "https://localhost:8080/"
        }
      },
      "source": [
        "reg.fit(train_dataset.iloc[:,1:-1],train_dataset['SalePrice'])"
      ],
      "execution_count": 177,
      "outputs": [
        {
          "output_type": "execute_result",
          "data": {
            "text/plain": [
              "RandomForestRegressor(bootstrap=True, ccp_alpha=0.0, criterion='mse',\n",
              "                      max_depth=None, max_features='auto', max_leaf_nodes=None,\n",
              "                      max_samples=None, min_impurity_decrease=0.0,\n",
              "                      min_impurity_split=None, min_samples_leaf=1,\n",
              "                      min_samples_split=2, min_weight_fraction_leaf=0.0,\n",
              "                      n_estimators=100, n_jobs=None, oob_score=False,\n",
              "                      random_state=None, verbose=0, warm_start=False)"
            ]
          },
          "metadata": {
            "tags": []
          },
          "execution_count": 177
        }
      ]
    },
    {
      "cell_type": "code",
      "metadata": {
        "id": "W8bZKNsmA6-5"
      },
      "source": [
        "test_dataset = pd.read_csv('/content/drive/My Drive/Datasci/test.csv')"
      ],
      "execution_count": 178,
      "outputs": []
    },
    {
      "cell_type": "markdown",
      "metadata": {
        "id": "hDUTH4rYgBAi"
      },
      "source": [
        "# Encoding catagorical data"
      ]
    },
    {
      "cell_type": "code",
      "metadata": {
        "id": "vaYMs2n3gFz9"
      },
      "source": [
        "test_dataset[col] = test_dataset[col].fillna(0)\n",
        "test_dataset = test_dataset[col]"
      ],
      "execution_count": 179,
      "outputs": []
    },
    {
      "cell_type": "code",
      "metadata": {
        "id": "V4I4PX_GkV9J"
      },
      "source": [
        "# test_dataset['MSSubClass'] = test_dataset['MSSubClass'].astype(CategoricalDtype([20,30,40,45,50,60,70,75,80,85,90,120,150,160,180,190]))\n",
        "test_dataset['OverallQual'] = test_dataset['OverallQual'].astype(CategoricalDtype([1,2,3,4,5,6,7,8,9,10]))\n",
        "# test_dataset['OverallCond'] = test_dataset['OverallCond'].astype(CategoricalDtype([1,2,3,4,5,6,7,8,9,10]))"
      ],
      "execution_count": 149,
      "outputs": []
    },
    {
      "cell_type": "code",
      "metadata": {
        "id": "Xm3AboZUBVFJ",
        "outputId": "f0a7534e-c7cd-4f1c-c40b-c9180e486b9e",
        "colab": {
          "base_uri": "https://localhost:8080/"
        }
      },
      "source": [
        "print(test_dataset[col].isna().sum())"
      ],
      "execution_count": 130,
      "outputs": [
        {
          "output_type": "stream",
          "text": [
            "Id             0\n",
            "OverallQual    0\n",
            "TotalBsmtSF    0\n",
            "GrLivArea      0\n",
            "GarageCars     0\n",
            "GarageArea     0\n",
            "dtype: int64\n"
          ],
          "name": "stdout"
        }
      ]
    },
    {
      "cell_type": "code",
      "metadata": {
        "id": "l9DUHPjKgI2N"
      },
      "source": [
        "# test_dataset = pd.concat([test_dataset,pd.get_dummies(test_dataset['MSSubClass'],prefix='MSSubClass',drop_first=True)],axis=1)\n",
        "# test_dataset.drop(['MSSubClass'],axis=1, inplace=True)\n",
        "test_dataset = pd.concat([test_dataset,pd.get_dummies(test_dataset['OverallQual'],prefix='OverallQual',drop_first=True)],axis=1)\n",
        "test_dataset.drop(['OverallQual'],axis=1, inplace=True)\n",
        "# test_dataset = pd.concat([test_dataset,pd.get_dummies(test_dataset['OverallCond'],prefix='OverallCond',drop_first=True)],axis=1)\n",
        "# test_dataset.drop(['OverallCond'],axis=1, inplace=True)"
      ],
      "execution_count": 150,
      "outputs": []
    },
    {
      "cell_type": "code",
      "metadata": {
        "id": "ajIHgqx7g0Ac",
        "outputId": "e7fae1a5-fb75-4a54-9777-92a82d184fd9",
        "colab": {
          "base_uri": "https://localhost:8080/"
        }
      },
      "source": [
        "print(test_dataset.iloc[:,1:])"
      ],
      "execution_count": 180,
      "outputs": [
        {
          "output_type": "stream",
          "text": [
            "      OverallQual  TotalBsmtSF  GrLivArea  GarageCars  GarageArea  1stFlrSF\n",
            "0               5        882.0        896         1.0       730.0       896\n",
            "1               6       1329.0       1329         1.0       312.0      1329\n",
            "2               5        928.0       1629         2.0       482.0       928\n",
            "3               6        926.0       1604         2.0       470.0       926\n",
            "4               8       1280.0       1280         2.0       506.0      1280\n",
            "...           ...          ...        ...         ...         ...       ...\n",
            "1454            4        546.0       1092         0.0         0.0       546\n",
            "1455            4        546.0       1092         1.0       286.0       546\n",
            "1456            5       1224.0       1224         2.0       576.0      1224\n",
            "1457            5        912.0        970         0.0         0.0       970\n",
            "1458            7        996.0       2000         3.0       650.0       996\n",
            "\n",
            "[1459 rows x 6 columns]\n"
          ],
          "name": "stdout"
        }
      ]
    },
    {
      "cell_type": "code",
      "metadata": {
        "id": "Xsl_7IJ-hQfM",
        "outputId": "1aa343e4-73de-4d6b-d196-13ee3f89acc3",
        "colab": {
          "base_uri": "https://localhost:8080/"
        }
      },
      "source": [
        "test_dataset.columns"
      ],
      "execution_count": 98,
      "outputs": [
        {
          "output_type": "execute_result",
          "data": {
            "text/plain": [
              "Index(['Id', 'LotArea', 'OverallQual', 'TotalBsmtSF', 'GrLivArea',\n",
              "       'GarageCars', 'GarageArea'],\n",
              "      dtype='object')"
            ]
          },
          "metadata": {
            "tags": []
          },
          "execution_count": 98
        }
      ]
    },
    {
      "cell_type": "code",
      "metadata": {
        "id": "CeMwrVHaBE0i"
      },
      "source": [
        "result = reg.predict(test_dataset.iloc[:,1:])"
      ],
      "execution_count": 181,
      "outputs": []
    },
    {
      "cell_type": "code",
      "metadata": {
        "id": "SOZiDZUSCNDT",
        "outputId": "9d011ac1-acf0-499f-a3d6-cb297eb11e7d",
        "colab": {
          "base_uri": "https://localhost:8080/"
        }
      },
      "source": [
        "print(result)"
      ],
      "execution_count": 182,
      "outputs": [
        {
          "output_type": "stream",
          "text": [
            "[125332.83       158719.2        148042.         ... 157253.09\n",
            " 103732.08333333 233856.49      ]\n"
          ],
          "name": "stdout"
        }
      ]
    },
    {
      "cell_type": "code",
      "metadata": {
        "id": "kcrdmmHBCVhj"
      },
      "source": [
        "ans=pd.DataFrame({'SalePrice':result})\n",
        "submission = pd.concat([test_dataset['Id'],ans],axis=1)\n",
        "submission.to_csv('/content/drive/My Drive/Datasci/outputrandom_forest18.csv', index=False)"
      ],
      "execution_count": 183,
      "outputs": []
    }
  ]
}