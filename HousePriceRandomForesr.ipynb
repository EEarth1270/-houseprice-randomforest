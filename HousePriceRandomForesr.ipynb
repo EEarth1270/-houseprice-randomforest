{
  "nbformat": 4,
  "nbformat_minor": 0,
  "metadata": {
    "colab": {
      "name": "HousePriceRandomForesr.ipynb",
      "provenance": [],
      "collapsed_sections": [
        "jGy2_SnZ6Jna",
        "CHW4v4X7E9EW"
      ],
      "toc_visible": true,
      "authorship_tag": "ABX9TyNYQROitI+Jl1dYNXmKtHwW",
      "include_colab_link": true
    },
    "kernelspec": {
      "name": "python3",
      "display_name": "Python 3"
    }
  },
  "cells": [
    {
      "cell_type": "markdown",
      "metadata": {
        "id": "view-in-github",
        "colab_type": "text"
      },
      "source": [
        "<a href=\"https://colab.research.google.com/github/EEarth1270/houseprice-prediction/blob/randomforest/HousePriceRandomForesr.ipynb\" target=\"_parent\"><img src=\"https://colab.research.google.com/assets/colab-badge.svg\" alt=\"Open In Colab\"/></a>"
      ]
    },
    {
      "cell_type": "code",
      "metadata": {
        "id": "yvNjJ-EU7ysI",
        "outputId": "358eb976-13b2-4b0b-dadb-39b25f015949",
        "colab": {
          "base_uri": "https://localhost:8080/",
          "height": 34
        }
      },
      "source": [
        "from google.colab import drive\n",
        "drive.mount('/content/drive')"
      ],
      "execution_count": 1,
      "outputs": [
        {
          "output_type": "stream",
          "text": [
            "Mounted at /content/drive\n"
          ],
          "name": "stdout"
        }
      ]
    },
    {
      "cell_type": "code",
      "metadata": {
        "id": "J902yTwR75xi"
      },
      "source": [
        "import pandas as pd\n",
        "import seaborn as sns\n",
        "import matplotlib.pyplot as plt\n",
        "from sklearn.ensemble import RandomForestRegressor\n",
        "from sklearn.preprocessing import MinMaxScaler,OneHotEncoder\n",
        "from scipy.stats import iqr\n",
        "from pandas.api.types import CategoricalDtype \n"
      ],
      "execution_count": 188,
      "outputs": []
    },
    {
      "cell_type": "code",
      "metadata": {
        "id": "4WNGYpP38C-h"
      },
      "source": [
        "train_dataset = pd.read_csv('/content/drive/My Drive/Datasci/train.csv')"
      ],
      "execution_count": 355,
      "outputs": []
    },
    {
      "cell_type": "markdown",
      "metadata": {
        "id": "jGy2_SnZ6Jna"
      },
      "source": [
        "# Pre-processing"
      ]
    },
    {
      "cell_type": "code",
      "metadata": {
        "id": "7ZTsFVGs8JpJ",
        "outputId": "5ff3d8b4-5747-4133-93be-9480a253488a",
        "colab": {
          "base_uri": "https://localhost:8080/",
          "height": 0
        }
      },
      "source": [
        "corrMatrix = train_dataset.corr()\n",
        "print(corrMatrix)"
      ],
      "execution_count": 356,
      "outputs": [
        {
          "output_type": "stream",
          "text": [
            "                     Id  MSSubClass  LotFrontage  ...    MoSold    YrSold  SalePrice\n",
            "Id             1.000000    0.011156    -0.010601  ...  0.021172  0.000712  -0.021917\n",
            "MSSubClass     0.011156    1.000000    -0.386347  ... -0.013585 -0.021407  -0.084284\n",
            "LotFrontage   -0.010601   -0.386347     1.000000  ...  0.011200  0.007450   0.351799\n",
            "LotArea       -0.033226   -0.139781     0.426095  ...  0.001205 -0.014261   0.263843\n",
            "OverallQual   -0.028365    0.032628     0.251646  ...  0.070815 -0.027347   0.790982\n",
            "OverallCond    0.012609   -0.059316    -0.059213  ... -0.003511  0.043950  -0.077856\n",
            "YearBuilt     -0.012713    0.027850     0.123349  ...  0.012398 -0.013618   0.522897\n",
            "YearRemodAdd  -0.021998    0.040581     0.088866  ...  0.021490  0.035743   0.507101\n",
            "MasVnrArea    -0.050298    0.022936     0.193458  ... -0.005965 -0.008201   0.477493\n",
            "BsmtFinSF1    -0.005024   -0.069836     0.233633  ... -0.015727  0.014359   0.386420\n",
            "BsmtFinSF2    -0.005968   -0.065649     0.049900  ... -0.015211  0.031706  -0.011378\n",
            "BsmtUnfSF     -0.007940   -0.140759     0.132644  ...  0.034888 -0.041258   0.214479\n",
            "TotalBsmtSF   -0.015415   -0.238518     0.392075  ...  0.013196 -0.014969   0.613581\n",
            "1stFlrSF       0.010496   -0.251758     0.457181  ...  0.031372 -0.013604   0.605852\n",
            "2ndFlrSF       0.005590    0.307886     0.080177  ...  0.035164 -0.028700   0.319334\n",
            "LowQualFinSF  -0.044230    0.046474     0.038469  ... -0.022174 -0.028921  -0.025606\n",
            "GrLivArea      0.008273    0.074853     0.402797  ...  0.050240 -0.036526   0.708624\n",
            "BsmtFullBath   0.002289    0.003491     0.100949  ... -0.025361  0.067049   0.227122\n",
            "BsmtHalfBath  -0.020155   -0.002333    -0.007234  ...  0.032873 -0.046524  -0.016844\n",
            "FullBath       0.005587    0.131608     0.198769  ...  0.055872 -0.019669   0.560664\n",
            "HalfBath       0.006784    0.177354     0.053532  ... -0.009050 -0.010269   0.284108\n",
            "BedroomAbvGr   0.037719   -0.023438     0.263170  ...  0.046544 -0.036014   0.168213\n",
            "KitchenAbvGr   0.002951    0.281721    -0.006069  ...  0.026589  0.031687  -0.135907\n",
            "TotRmsAbvGrd   0.027239    0.040380     0.352096  ...  0.036907 -0.034516   0.533723\n",
            "Fireplaces    -0.019772   -0.045569     0.266639  ...  0.046357 -0.024096   0.466929\n",
            "GarageYrBlt    0.000072    0.085072     0.070250  ...  0.005337 -0.001014   0.486362\n",
            "GarageCars     0.016570   -0.040110     0.285691  ...  0.040522 -0.039117   0.640409\n",
            "GarageArea     0.017634   -0.098672     0.344997  ...  0.027974 -0.027378   0.623431\n",
            "WoodDeckSF    -0.029643   -0.012579     0.088521  ...  0.021011  0.022270   0.324413\n",
            "OpenPorchSF   -0.000477   -0.006100     0.151972  ...  0.071255 -0.057619   0.315856\n",
            "EnclosedPorch  0.002889   -0.012037     0.010700  ... -0.028887 -0.009916  -0.128578\n",
            "3SsnPorch     -0.046635   -0.043825     0.070029  ...  0.029474  0.018645   0.044584\n",
            "ScreenPorch    0.001330   -0.026030     0.041383  ...  0.023217  0.010694   0.111447\n",
            "PoolArea       0.057044    0.008283     0.206167  ... -0.033737 -0.059689   0.092404\n",
            "MiscVal       -0.006242   -0.007683     0.003368  ... -0.006495  0.004906  -0.021190\n",
            "MoSold         0.021172   -0.013585     0.011200  ...  1.000000 -0.145721   0.046432\n",
            "YrSold         0.000712   -0.021407     0.007450  ... -0.145721  1.000000  -0.028923\n",
            "SalePrice     -0.021917   -0.084284     0.351799  ...  0.046432 -0.028923   1.000000\n",
            "\n",
            "[38 rows x 38 columns]\n"
          ],
          "name": "stdout"
        }
      ]
    },
    {
      "cell_type": "code",
      "metadata": {
        "id": "45KqYGQn8eu3",
        "outputId": "acfbafc3-23d6-46e4-d5aa-7d4f98db14dc",
        "colab": {
          "base_uri": "https://localhost:8080/",
          "height": 0
        }
      },
      "source": [
        "print(train_dataset.info())"
      ],
      "execution_count": 357,
      "outputs": [
        {
          "output_type": "stream",
          "text": [
            "<class 'pandas.core.frame.DataFrame'>\n",
            "RangeIndex: 1460 entries, 0 to 1459\n",
            "Data columns (total 81 columns):\n",
            " #   Column         Non-Null Count  Dtype  \n",
            "---  ------         --------------  -----  \n",
            " 0   Id             1460 non-null   int64  \n",
            " 1   MSSubClass     1460 non-null   int64  \n",
            " 2   MSZoning       1460 non-null   object \n",
            " 3   LotFrontage    1201 non-null   float64\n",
            " 4   LotArea        1460 non-null   int64  \n",
            " 5   Street         1460 non-null   object \n",
            " 6   Alley          91 non-null     object \n",
            " 7   LotShape       1460 non-null   object \n",
            " 8   LandContour    1460 non-null   object \n",
            " 9   Utilities      1460 non-null   object \n",
            " 10  LotConfig      1460 non-null   object \n",
            " 11  LandSlope      1460 non-null   object \n",
            " 12  Neighborhood   1460 non-null   object \n",
            " 13  Condition1     1460 non-null   object \n",
            " 14  Condition2     1460 non-null   object \n",
            " 15  BldgType       1460 non-null   object \n",
            " 16  HouseStyle     1460 non-null   object \n",
            " 17  OverallQual    1460 non-null   int64  \n",
            " 18  OverallCond    1460 non-null   int64  \n",
            " 19  YearBuilt      1460 non-null   int64  \n",
            " 20  YearRemodAdd   1460 non-null   int64  \n",
            " 21  RoofStyle      1460 non-null   object \n",
            " 22  RoofMatl       1460 non-null   object \n",
            " 23  Exterior1st    1460 non-null   object \n",
            " 24  Exterior2nd    1460 non-null   object \n",
            " 25  MasVnrType     1452 non-null   object \n",
            " 26  MasVnrArea     1452 non-null   float64\n",
            " 27  ExterQual      1460 non-null   object \n",
            " 28  ExterCond      1460 non-null   object \n",
            " 29  Foundation     1460 non-null   object \n",
            " 30  BsmtQual       1423 non-null   object \n",
            " 31  BsmtCond       1423 non-null   object \n",
            " 32  BsmtExposure   1422 non-null   object \n",
            " 33  BsmtFinType1   1423 non-null   object \n",
            " 34  BsmtFinSF1     1460 non-null   int64  \n",
            " 35  BsmtFinType2   1422 non-null   object \n",
            " 36  BsmtFinSF2     1460 non-null   int64  \n",
            " 37  BsmtUnfSF      1460 non-null   int64  \n",
            " 38  TotalBsmtSF    1460 non-null   int64  \n",
            " 39  Heating        1460 non-null   object \n",
            " 40  HeatingQC      1460 non-null   object \n",
            " 41  CentralAir     1460 non-null   object \n",
            " 42  Electrical     1459 non-null   object \n",
            " 43  1stFlrSF       1460 non-null   int64  \n",
            " 44  2ndFlrSF       1460 non-null   int64  \n",
            " 45  LowQualFinSF   1460 non-null   int64  \n",
            " 46  GrLivArea      1460 non-null   int64  \n",
            " 47  BsmtFullBath   1460 non-null   int64  \n",
            " 48  BsmtHalfBath   1460 non-null   int64  \n",
            " 49  FullBath       1460 non-null   int64  \n",
            " 50  HalfBath       1460 non-null   int64  \n",
            " 51  BedroomAbvGr   1460 non-null   int64  \n",
            " 52  KitchenAbvGr   1460 non-null   int64  \n",
            " 53  KitchenQual    1460 non-null   object \n",
            " 54  TotRmsAbvGrd   1460 non-null   int64  \n",
            " 55  Functional     1460 non-null   object \n",
            " 56  Fireplaces     1460 non-null   int64  \n",
            " 57  FireplaceQu    770 non-null    object \n",
            " 58  GarageType     1379 non-null   object \n",
            " 59  GarageYrBlt    1379 non-null   float64\n",
            " 60  GarageFinish   1379 non-null   object \n",
            " 61  GarageCars     1460 non-null   int64  \n",
            " 62  GarageArea     1460 non-null   int64  \n",
            " 63  GarageQual     1379 non-null   object \n",
            " 64  GarageCond     1379 non-null   object \n",
            " 65  PavedDrive     1460 non-null   object \n",
            " 66  WoodDeckSF     1460 non-null   int64  \n",
            " 67  OpenPorchSF    1460 non-null   int64  \n",
            " 68  EnclosedPorch  1460 non-null   int64  \n",
            " 69  3SsnPorch      1460 non-null   int64  \n",
            " 70  ScreenPorch    1460 non-null   int64  \n",
            " 71  PoolArea       1460 non-null   int64  \n",
            " 72  PoolQC         7 non-null      object \n",
            " 73  Fence          281 non-null    object \n",
            " 74  MiscFeature    54 non-null     object \n",
            " 75  MiscVal        1460 non-null   int64  \n",
            " 76  MoSold         1460 non-null   int64  \n",
            " 77  YrSold         1460 non-null   int64  \n",
            " 78  SaleType       1460 non-null   object \n",
            " 79  SaleCondition  1460 non-null   object \n",
            " 80  SalePrice      1460 non-null   int64  \n",
            "dtypes: float64(3), int64(35), object(43)\n",
            "memory usage: 924.0+ KB\n",
            "None\n"
          ],
          "name": "stdout"
        }
      ]
    },
    {
      "cell_type": "code",
      "metadata": {
        "id": "OYfcqFzE_KXp"
      },
      "source": [
        "# a=pd.isna(train_dataset).sum() > 0\n",
        "# text_file = open(\"/content/drive/My Drive/Datasci/out4.txt\", \"w\")\n",
        "# n = text_file.write(a.to_string())\n",
        "# text_file.close()"
      ],
      "execution_count": 358,
      "outputs": []
    },
    {
      "cell_type": "code",
      "metadata": {
        "id": "3zABehECpipI"
      },
      "source": [
        "train_dataset['LotFrontage'].fillna(0,inplace=True)"
      ],
      "execution_count": 359,
      "outputs": []
    },
    {
      "cell_type": "code",
      "metadata": {
        "id": "y4UCjyDt-R9S"
      },
      "source": [
        "col = ['Id','MSSubClass','LotArea','LotFrontage','OverallQual','OverallCond','TotalBsmtSF','GrLivArea','GarageCars','GarageArea']\n",
        "salePrice = train_dataset['SalePrice']"
      ],
      "execution_count": 360,
      "outputs": []
    },
    {
      "cell_type": "code",
      "metadata": {
        "id": "XAuxnBXTeR31"
      },
      "source": [
        "train_dataset= train_dataset[col]"
      ],
      "execution_count": 361,
      "outputs": []
    },
    {
      "cell_type": "markdown",
      "metadata": {
        "id": "8XpGV2AHycfT"
      },
      "source": [
        "Cleaning Data"
      ]
    },
    {
      "cell_type": "markdown",
      "metadata": {
        "id": "dNtrWv_y80qH"
      },
      "source": [
        "Remove Outlier with IQR\n"
      ]
    },
    {
      "cell_type": "code",
      "metadata": {
        "id": "04GwaLUN1OIu",
        "outputId": "fd361c1a-1d35-431f-c550-2d20b1955687",
        "colab": {
          "base_uri": "https://localhost:8080/",
          "height": 0
        }
      },
      "source": [
        "sns.boxplot(train_dataset['LotArea'])"
      ],
      "execution_count": 362,
      "outputs": [
        {
          "output_type": "stream",
          "text": [
            "/usr/local/lib/python3.6/dist-packages/seaborn/_decorators.py:43: FutureWarning: Pass the following variable as a keyword arg: x. From version 0.12, the only valid positional argument will be `data`, and passing other arguments without an explicit keyword will result in an error or misinterpretation.\n",
            "  FutureWarning\n"
          ],
          "name": "stderr"
        },
        {
          "output_type": "execute_result",
          "data": {
            "text/plain": [
              "<matplotlib.axes._subplots.AxesSubplot at 0x7fe25d8a32e8>"
            ]
          },
          "metadata": {
            "tags": []
          },
          "execution_count": 362
        },
        {
          "output_type": "display_data",
          "data": {
            "image/png": "[encoded data removed]",
            "text/plain": [
              "<Figure size 432x288 with 1 Axes>"
            ]
          },
          "metadata": {
            "tags": [],
            "needs_background": "light"
          }
        }
      ]
    },
    {
      "cell_type": "code",
      "metadata": {
        "id": "VtuS3IS46XlJ",
        "outputId": "898e52d2-9ed6-4624-f48d-a78e621c7cfb",
        "colab": {
          "base_uri": "https://localhost:8080/",
          "height": 0
        }
      },
      "source": [
        "iqr_lotArea = iqr(train_dataset['LotArea']) *1.5\n",
        "Q75 = train_dataset['LotArea'].quantile(0.75) +iqr_lotArea\n",
        "Q25 = train_dataset['LotArea'].quantile(0.25) -iqr_lotArea\n",
        "print(iqr_lotArea)\n",
        "print(Q25,Q75)"
      ],
      "execution_count": 363,
      "outputs": [
        {
          "output_type": "stream",
          "text": [
            "6072.0\n",
            "1481.5 17673.5\n"
          ],
          "name": "stdout"
        }
      ]
    },
    {
      "cell_type": "code",
      "metadata": {
        "id": "z-2-rczl8GxK"
      },
      "source": [
        "# train_dataset = train_dataset[train_dataset['LotArea']>1481.5]\n",
        "train_dataset = train_dataset[train_dataset['LotArea']<17673.5]"
      ],
      "execution_count": 364,
      "outputs": []
    },
    {
      "cell_type": "code",
      "metadata": {
        "id": "EhWvJs9QATYD",
        "outputId": "6cb43459-cf37-40f8-a290-745b96485179",
        "colab": {
          "base_uri": "https://localhost:8080/",
          "height": 0
        }
      },
      "source": [
        "sns.boxplot(train_dataset['LotFrontage'])"
      ],
      "execution_count": 365,
      "outputs": [
        {
          "output_type": "stream",
          "text": [
            "/usr/local/lib/python3.6/dist-packages/seaborn/_decorators.py:43: FutureWarning: Pass the following variable as a keyword arg: x. From version 0.12, the only valid positional argument will be `data`, and passing other arguments without an explicit keyword will result in an error or misinterpretation.\n",
            "  FutureWarning\n"
          ],
          "name": "stderr"
        },
        {
          "output_type": "execute_result",
          "data": {
            "text/plain": [
              "<matplotlib.axes._subplots.AxesSubplot at 0x7fe25d87f0b8>"
            ]
          },
          "metadata": {
            "tags": []
          },
          "execution_count": 365
        },
        {
          "output_type": "display_data",
          "data": {
            "image/png": "[encoded data removed]",
            "text/plain": [
              "<Figure size 432x288 with 1 Axes>"
            ]
          },
          "metadata": {
            "tags": [],
            "needs_background": "light"
          }
        }
      ]
    },
    {
      "cell_type": "code",
      "metadata": {
        "id": "-8oehCyR9qxx",
        "outputId": "1ac1c7e8-fb4f-4c6b-a586-ffc19fbe16b5",
        "colab": {
          "base_uri": "https://localhost:8080/",
          "height": 0
        }
      },
      "source": [
        "iqr_lotFrontage = iqr(train_dataset['LotFrontage']) *1.5\n",
        "Q75 = train_dataset['LotFrontage'].quantile(0.75)\n",
        "Q25 = train_dataset['LotFrontage'].quantile(0.25)\n",
        "print(iqr_lotFrontage)\n",
        "print(Q25,Q75)"
      ],
      "execution_count": 366,
      "outputs": [
        {
          "output_type": "stream",
          "text": [
            "52.5\n",
            "43.0 78.0\n"
          ],
          "name": "stdout"
        }
      ]
    },
    {
      "cell_type": "code",
      "metadata": {
        "id": "GfHElQOn-lFE"
      },
      "source": [
        "train_dataset = train_dataset[train_dataset['LotFrontage']<130.5]\n",
        "# train_dataset = train_dataset[train_dataset['LotFrontage']>9]"
      ],
      "execution_count": 367,
      "outputs": []
    },
    {
      "cell_type": "code",
      "metadata": {
        "id": "Ar-JKy4C--LD",
        "outputId": "9ba68f35-0687-4cc1-e855-316cc4b1af83",
        "colab": {
          "base_uri": "https://localhost:8080/",
          "height": 0
        }
      },
      "source": [
        "sns.boxplot(train_dataset['TotalBsmtSF'])"
      ],
      "execution_count": 368,
      "outputs": [
        {
          "output_type": "stream",
          "text": [
            "/usr/local/lib/python3.6/dist-packages/seaborn/_decorators.py:43: FutureWarning: Pass the following variable as a keyword arg: x. From version 0.12, the only valid positional argument will be `data`, and passing other arguments without an explicit keyword will result in an error or misinterpretation.\n",
            "  FutureWarning\n"
          ],
          "name": "stderr"
        },
        {
          "output_type": "execute_result",
          "data": {
            "text/plain": [
              "<matplotlib.axes._subplots.AxesSubplot at 0x7fe25d7e1320>"
            ]
          },
          "metadata": {
            "tags": []
          },
          "execution_count": 368
        },
        {
          "output_type": "display_data",
          "data": {
            "image/png": "[encoded data removed]",
            "text/plain": [
              "<Figure size 432x288 with 1 Axes>"
            ]
          },
          "metadata": {
            "tags": [],
            "needs_background": "light"
          }
        }
      ]
    },
    {
      "cell_type": "code",
      "metadata": {
        "id": "RBGHGqx2_OaY",
        "outputId": "1c8bc343-2fed-492f-96f2-8f40a19c1a9d",
        "colab": {
          "base_uri": "https://localhost:8080/",
          "height": 0
        }
      },
      "source": [
        "iqr_TotalBsmtSF = iqr(train_dataset['TotalBsmtSF']) *1.5\n",
        "Q75 = train_dataset['TotalBsmtSF'].quantile(0.75)\n",
        "Q25 = train_dataset['TotalBsmtSF'].quantile(0.25)\n",
        "print(iqr_TotalBsmtSF)\n",
        "print(Q25,Q75)"
      ],
      "execution_count": 369,
      "outputs": [
        {
          "output_type": "stream",
          "text": [
            "710.625\n",
            "793.0 1266.75\n"
          ],
          "name": "stdout"
        }
      ]
    },
    {
      "cell_type": "code",
      "metadata": {
        "id": "ERp9WhrP_byN"
      },
      "source": [
        "train_dataset = train_dataset[train_dataset['TotalBsmtSF']<1980.5]\n",
        "# train_dataset = train_dataset[train_dataset['TotalBsmtSF']>80.5]"
      ],
      "execution_count": 370,
      "outputs": []
    },
    {
      "cell_type": "code",
      "metadata": {
        "id": "ZxQlYyutBcmR",
        "outputId": "7844a0cf-d878-42fb-97e2-1c1f9f5d6473",
        "colab": {
          "base_uri": "https://localhost:8080/",
          "height": 0
        }
      },
      "source": [
        "sns.boxplot(train_dataset['GrLivArea'])"
      ],
      "execution_count": 371,
      "outputs": [
        {
          "output_type": "stream",
          "text": [
            "/usr/local/lib/python3.6/dist-packages/seaborn/_decorators.py:43: FutureWarning: Pass the following variable as a keyword arg: x. From version 0.12, the only valid positional argument will be `data`, and passing other arguments without an explicit keyword will result in an error or misinterpretation.\n",
            "  FutureWarning\n"
          ],
          "name": "stderr"
        },
        {
          "output_type": "execute_result",
          "data": {
            "text/plain": [
              "<matplotlib.axes._subplots.AxesSubplot at 0x7fe25d7c1780>"
            ]
          },
          "metadata": {
            "tags": []
          },
          "execution_count": 371
        },
        {
          "output_type": "display_data",
          "data": {
            "image/png": "[encoded data removed]",
            "text/plain": [
              "<Figure size 432x288 with 1 Axes>"
            ]
          },
          "metadata": {
            "tags": [],
            "needs_background": "light"
          }
        }
      ]
    },
    {
      "cell_type": "code",
      "metadata": {
        "id": "UrlWKSEIBuTz",
        "outputId": "b267bf84-02f0-43e4-ec4d-18793312975a",
        "colab": {
          "base_uri": "https://localhost:8080/",
          "height": 0
        }
      },
      "source": [
        "iqr_GrLivArea = iqr(train_dataset['GrLivArea']) *1.5\n",
        "Q75 = train_dataset['GrLivArea'].quantile(0.75)\n",
        "Q25 = train_dataset['GrLivArea'].quantile(0.25)\n",
        "print(iqr_GrLivArea)\n",
        "print(Q25,Q75)"
      ],
      "execution_count": 372,
      "outputs": [
        {
          "output_type": "stream",
          "text": [
            "915.375\n",
            "1117.75 1728.0\n"
          ],
          "name": "stdout"
        }
      ]
    },
    {
      "cell_type": "code",
      "metadata": {
        "id": "Ww8_9WuZCC_m"
      },
      "source": [
        "train_dataset = train_dataset[train_dataset['GrLivArea']<2615]\n",
        "# train_dataset = train_dataset[train_dataset['GrLivArea']>239]"
      ],
      "execution_count": 373,
      "outputs": []
    },
    {
      "cell_type": "code",
      "metadata": {
        "id": "L1ABmEkxCQMD",
        "outputId": "ea8f26e7-3415-48e8-f2ae-d8a95a94adcf",
        "colab": {
          "base_uri": "https://localhost:8080/",
          "height": 0
        }
      },
      "source": [
        "sns.boxplot(train_dataset['GarageCars'])"
      ],
      "execution_count": 374,
      "outputs": [
        {
          "output_type": "stream",
          "text": [
            "/usr/local/lib/python3.6/dist-packages/seaborn/_decorators.py:43: FutureWarning: Pass the following variable as a keyword arg: x. From version 0.12, the only valid positional argument will be `data`, and passing other arguments without an explicit keyword will result in an error or misinterpretation.\n",
            "  FutureWarning\n"
          ],
          "name": "stderr"
        },
        {
          "output_type": "execute_result",
          "data": {
            "text/plain": [
              "<matplotlib.axes._subplots.AxesSubplot at 0x7fe25d721668>"
            ]
          },
          "metadata": {
            "tags": []
          },
          "execution_count": 374
        },
        {
          "output_type": "display_data",
          "data": {
            "image/png": "[encoded data removed]",
            "text/plain": [
              "<Figure size 432x288 with 1 Axes>"
            ]
          },
          "metadata": {
            "tags": [],
            "needs_background": "light"
          }
        }
      ]
    },
    {
      "cell_type": "code",
      "metadata": {
        "id": "RC-CzDfTDZ1-",
        "outputId": "e56c7297-a4dc-4b1a-91a1-1776be7a0ec7",
        "colab": {
          "base_uri": "https://localhost:8080/",
          "height": 0
        }
      },
      "source": [
        "sns.boxplot(train_dataset['GarageArea'])"
      ],
      "execution_count": 375,
      "outputs": [
        {
          "output_type": "stream",
          "text": [
            "/usr/local/lib/python3.6/dist-packages/seaborn/_decorators.py:43: FutureWarning: Pass the following variable as a keyword arg: x. From version 0.12, the only valid positional argument will be `data`, and passing other arguments without an explicit keyword will result in an error or misinterpretation.\n",
            "  FutureWarning\n"
          ],
          "name": "stderr"
        },
        {
          "output_type": "execute_result",
          "data": {
            "text/plain": [
              "<matplotlib.axes._subplots.AxesSubplot at 0x7fe25d682630>"
            ]
          },
          "metadata": {
            "tags": []
          },
          "execution_count": 375
        },
        {
          "output_type": "display_data",
          "data": {
            "image/png": "[encoded data removed]",
            "text/plain": [
              "<Figure size 432x288 with 1 Axes>"
            ]
          },
          "metadata": {
            "tags": [],
            "needs_background": "light"
          }
        }
      ]
    },
    {
      "cell_type": "code",
      "metadata": {
        "id": "Dt-qG27XEjEf",
        "outputId": "b98870fc-c9f1-4434-ab02-c32c909fed45",
        "colab": {
          "base_uri": "https://localhost:8080/",
          "height": 0
        }
      },
      "source": [
        "iqr_GarageArea = iqr(train_dataset['GarageArea']) *1.5\n",
        "Q75 = train_dataset['GarageArea'].quantile(0.75)\n",
        "Q25 = train_dataset['GarageArea'].quantile(0.25)\n",
        "print(iqr_GarageArea)\n",
        "print(Q25,Q75)"
      ],
      "execution_count": 376,
      "outputs": [
        {
          "output_type": "stream",
          "text": [
            "396.0\n",
            "308.0 572.0\n"
          ],
          "name": "stdout"
        }
      ]
    },
    {
      "cell_type": "code",
      "metadata": {
        "id": "yQMoIbISEqwo"
      },
      "source": [
        "train_dataset = train_dataset[train_dataset['GarageArea']<978]"
      ],
      "execution_count": 377,
      "outputs": []
    },
    {
      "cell_type": "code",
      "metadata": {
        "id": "tQy-Pb9jiznB"
      },
      "source": [
        "train_dataset['MSSubClass'] = train_dataset['MSSubClass'].astype(CategoricalDtype([20,30,40,45,50,60,70,75,80,85,90,120,150,160,180,190]))\n",
        "train_dataset['OverallQual'] = train_dataset['OverallQual'].astype(CategoricalDtype([1,2,3,4,5,6,7,8,9,10]))\n",
        "train_dataset['OverallCond'] = train_dataset['OverallCond'].astype(CategoricalDtype([1,2,3,4,5,6,7,8,9,10]))"
      ],
      "execution_count": 378,
      "outputs": []
    },
    {
      "cell_type": "markdown",
      "metadata": {
        "id": "CHW4v4X7E9EW"
      },
      "source": [
        "# Encoding catagorical data"
      ]
    },
    {
      "cell_type": "code",
      "metadata": {
        "id": "d1VLkHk3YOX6"
      },
      "source": [
        "train_dataset = pd.concat([train_dataset,pd.get_dummies(train_dataset['MSSubClass'],prefix='MSSubClass',drop_first=True)],axis=1)"
      ],
      "execution_count": 379,
      "outputs": []
    },
    {
      "cell_type": "code",
      "metadata": {
        "id": "57MpqcoZbOQR"
      },
      "source": [
        "train_dataset.drop(['MSSubClass'],axis=1, inplace=True)"
      ],
      "execution_count": 380,
      "outputs": []
    },
    {
      "cell_type": "code",
      "metadata": {
        "id": "hEUbUP78baYS"
      },
      "source": [
        "train_dataset = pd.concat([train_dataset,pd.get_dummies(train_dataset['OverallQual'],prefix='OverallQual',drop_first=True)],axis=1)"
      ],
      "execution_count": 381,
      "outputs": []
    },
    {
      "cell_type": "code",
      "metadata": {
        "id": "ZoFiF90TbrS9"
      },
      "source": [
        "train_dataset.drop(['OverallQual'],axis=1, inplace=True)"
      ],
      "execution_count": 382,
      "outputs": []
    },
    {
      "cell_type": "code",
      "metadata": {
        "id": "dbnOjHGzburj"
      },
      "source": [
        "train_dataset = pd.concat([train_dataset,pd.get_dummies(train_dataset['OverallCond'],prefix='OverallCond',drop_first=True)],axis=1)"
      ],
      "execution_count": 383,
      "outputs": []
    },
    {
      "cell_type": "code",
      "metadata": {
        "id": "t1d3ttRabzO2"
      },
      "source": [
        "train_dataset.drop(['OverallCond'],axis=1, inplace=True)"
      ],
      "execution_count": 384,
      "outputs": []
    },
    {
      "cell_type": "code",
      "metadata": {
        "id": "vyS0-7E3b163",
        "outputId": "bdea8f2d-ec55-4846-825c-39b40814f4d6",
        "colab": {
          "base_uri": "https://localhost:8080/",
          "height": 0
        }
      },
      "source": [
        "print(train_dataset)"
      ],
      "execution_count": 385,
      "outputs": [
        {
          "output_type": "stream",
          "text": [
            "        Id  LotArea  LotFrontage  ...  OverallCond_8  OverallCond_9  OverallCond_10\n",
            "0        1     8450         65.0  ...              0              0               0\n",
            "1        2     9600         80.0  ...              1              0               0\n",
            "2        3    11250         68.0  ...              0              0               0\n",
            "3        4     9550         60.0  ...              0              0               0\n",
            "4        5    14260         84.0  ...              0              0               0\n",
            "...    ...      ...          ...  ...            ...            ...             ...\n",
            "1455  1456     7917         62.0  ...              0              0               0\n",
            "1456  1457    13175         85.0  ...              0              0               0\n",
            "1457  1458     9042         66.0  ...              0              1               0\n",
            "1458  1459     9717         68.0  ...              0              0               0\n",
            "1459  1460     9937         75.0  ...              0              0               0\n",
            "\n",
            "[1324 rows x 40 columns]\n"
          ],
          "name": "stdout"
        }
      ]
    },
    {
      "cell_type": "code",
      "metadata": {
        "id": "zvdYenGNeyYK"
      },
      "source": [
        "train_dataset = pd.concat([train_dataset,salePrice],axis=1)"
      ],
      "execution_count": 386,
      "outputs": []
    },
    {
      "cell_type": "markdown",
      "metadata": {
        "id": "H3Lh7Vdt6SAC"
      },
      "source": [
        "# Training"
      ]
    },
    {
      "cell_type": "code",
      "metadata": {
        "id": "QV8TZ1sXfPUM"
      },
      "source": [
        "train_dataset.dropna(inplace=True)"
      ],
      "execution_count": 387,
      "outputs": []
    },
    {
      "cell_type": "code",
      "metadata": {
        "id": "fYDcVx4gfx_2",
        "outputId": "31dd858e-f4bb-4ccd-e0bf-90e73fbec2d6",
        "colab": {
          "base_uri": "https://localhost:8080/",
          "height": 252
        }
      },
      "source": [
        "print(train_dataset)"
      ],
      "execution_count": 388,
      "outputs": [
        {
          "output_type": "stream",
          "text": [
            "          Id  LotArea  LotFrontage  ...  OverallCond_9  OverallCond_10  SalePrice\n",
            "0        1.0   8450.0         65.0  ...            0.0             0.0     208500\n",
            "1        2.0   9600.0         80.0  ...            0.0             0.0     181500\n",
            "2        3.0  11250.0         68.0  ...            0.0             0.0     223500\n",
            "3        4.0   9550.0         60.0  ...            0.0             0.0     140000\n",
            "4        5.0  14260.0         84.0  ...            0.0             0.0     250000\n",
            "...      ...      ...          ...  ...            ...             ...        ...\n",
            "1455  1456.0   7917.0         62.0  ...            0.0             0.0     175000\n",
            "1456  1457.0  13175.0         85.0  ...            0.0             0.0     210000\n",
            "1457  1458.0   9042.0         66.0  ...            1.0             0.0     266500\n",
            "1458  1459.0   9717.0         68.0  ...            0.0             0.0     142125\n",
            "1459  1460.0   9937.0         75.0  ...            0.0             0.0     147500\n",
            "\n",
            "[1324 rows x 41 columns]\n"
          ],
          "name": "stdout"
        }
      ]
    },
    {
      "cell_type": "code",
      "metadata": {
        "id": "LM0rbH2Eux5f",
        "outputId": "066cda59-f711-45d7-8fa8-fc500cf63d36",
        "colab": {
          "base_uri": "https://localhost:8080/",
          "height": 252
        }
      },
      "source": [
        "print(train_dataset.iloc[:,1:-1])"
      ],
      "execution_count": 389,
      "outputs": [
        {
          "output_type": "stream",
          "text": [
            "      LotArea  LotFrontage  ...  OverallCond_9  OverallCond_10\n",
            "0      8450.0         65.0  ...            0.0             0.0\n",
            "1      9600.0         80.0  ...            0.0             0.0\n",
            "2     11250.0         68.0  ...            0.0             0.0\n",
            "3      9550.0         60.0  ...            0.0             0.0\n",
            "4     14260.0         84.0  ...            0.0             0.0\n",
            "...       ...          ...  ...            ...             ...\n",
            "1455   7917.0         62.0  ...            0.0             0.0\n",
            "1456  13175.0         85.0  ...            0.0             0.0\n",
            "1457   9042.0         66.0  ...            1.0             0.0\n",
            "1458   9717.0         68.0  ...            0.0             0.0\n",
            "1459   9937.0         75.0  ...            0.0             0.0\n",
            "\n",
            "[1324 rows x 39 columns]\n"
          ],
          "name": "stdout"
        }
      ]
    },
    {
      "cell_type": "code",
      "metadata": {
        "id": "xK_DrXQvhNSD",
        "outputId": "b5f05920-9552-4213-8811-7f9137f2ec88",
        "colab": {
          "base_uri": "https://localhost:8080/",
          "height": 202
        }
      },
      "source": [
        "train_dataset.columns"
      ],
      "execution_count": 390,
      "outputs": [
        {
          "output_type": "execute_result",
          "data": {
            "text/plain": [
              "Index(['Id', 'LotArea', 'LotFrontage', 'TotalBsmtSF', 'GrLivArea',\n",
              "       'GarageCars', 'GarageArea', 'MSSubClass_30', 'MSSubClass_40',\n",
              "       'MSSubClass_45', 'MSSubClass_50', 'MSSubClass_60', 'MSSubClass_70',\n",
              "       'MSSubClass_75', 'MSSubClass_80', 'MSSubClass_85', 'MSSubClass_90',\n",
              "       'MSSubClass_120', 'MSSubClass_150', 'MSSubClass_160', 'MSSubClass_180',\n",
              "       'MSSubClass_190', 'OverallQual_2', 'OverallQual_3', 'OverallQual_4',\n",
              "       'OverallQual_5', 'OverallQual_6', 'OverallQual_7', 'OverallQual_8',\n",
              "       'OverallQual_9', 'OverallQual_10', 'OverallCond_2', 'OverallCond_3',\n",
              "       'OverallCond_4', 'OverallCond_5', 'OverallCond_6', 'OverallCond_7',\n",
              "       'OverallCond_8', 'OverallCond_9', 'OverallCond_10', 'SalePrice'],\n",
              "      dtype='object')"
            ]
          },
          "metadata": {
            "tags": []
          },
          "execution_count": 390
        }
      ]
    },
    {
      "cell_type": "code",
      "metadata": {
        "id": "jhghgVSoAXon"
      },
      "source": [
        "reg = RandomForestRegressor(n_estimators=1000,n_jobs=-1)"
      ],
      "execution_count": 391,
      "outputs": []
    },
    {
      "cell_type": "code",
      "metadata": {
        "id": "1chQ32Q4AzyK",
        "outputId": "07fd3b51-2582-40ad-d1e1-36ed094f7290",
        "colab": {
          "base_uri": "https://localhost:8080/",
          "height": 134
        }
      },
      "source": [
        "reg.fit(train_dataset.iloc[:,1:-1],train_dataset['SalePrice'])"
      ],
      "execution_count": 392,
      "outputs": [
        {
          "output_type": "execute_result",
          "data": {
            "text/plain": [
              "RandomForestRegressor(bootstrap=True, ccp_alpha=0.0, criterion='mse',\n",
              "                      max_depth=None, max_features='auto', max_leaf_nodes=None,\n",
              "                      max_samples=None, min_impurity_decrease=0.0,\n",
              "                      min_impurity_split=None, min_samples_leaf=1,\n",
              "                      min_samples_split=2, min_weight_fraction_leaf=0.0,\n",
              "                      n_estimators=1000, n_jobs=-1, oob_score=False,\n",
              "                      random_state=None, verbose=0, warm_start=False)"
            ]
          },
          "metadata": {
            "tags": []
          },
          "execution_count": 392
        }
      ]
    },
    {
      "cell_type": "code",
      "metadata": {
        "id": "W8bZKNsmA6-5"
      },
      "source": [
        "test_dataset = pd.read_csv('/content/drive/My Drive/Datasci/test.csv')"
      ],
      "execution_count": 393,
      "outputs": []
    },
    {
      "cell_type": "markdown",
      "metadata": {
        "id": "hDUTH4rYgBAi"
      },
      "source": [
        "# Encoding catagorical data"
      ]
    },
    {
      "cell_type": "code",
      "metadata": {
        "id": "vaYMs2n3gFz9"
      },
      "source": [
        "test_dataset[col] = test_dataset[col].fillna(0)\n",
        "test_dataset = test_dataset[col]"
      ],
      "execution_count": 394,
      "outputs": []
    },
    {
      "cell_type": "code",
      "metadata": {
        "id": "V4I4PX_GkV9J"
      },
      "source": [
        "test_dataset['MSSubClass'] = test_dataset['MSSubClass'].astype(CategoricalDtype([20,30,40,45,50,60,70,75,80,85,90,120,150,160,180,190]))\n",
        "test_dataset['OverallQual'] = test_dataset['OverallQual'].astype(CategoricalDtype([1,2,3,4,5,6,7,8,9,10]))\n",
        "test_dataset['OverallCond'] = test_dataset['OverallCond'].astype(CategoricalDtype([1,2,3,4,5,6,7,8,9,10]))"
      ],
      "execution_count": 395,
      "outputs": []
    },
    {
      "cell_type": "code",
      "metadata": {
        "id": "Xm3AboZUBVFJ",
        "outputId": "66aaaa53-8272-4aa3-cfd2-48fc64c2b6e0",
        "colab": {
          "base_uri": "https://localhost:8080/",
          "height": 202
        }
      },
      "source": [
        "print(test_dataset[col].isna().sum())"
      ],
      "execution_count": 396,
      "outputs": [
        {
          "output_type": "stream",
          "text": [
            "Id             0\n",
            "MSSubClass     0\n",
            "LotArea        0\n",
            "LotFrontage    0\n",
            "OverallQual    0\n",
            "OverallCond    0\n",
            "TotalBsmtSF    0\n",
            "GrLivArea      0\n",
            "GarageCars     0\n",
            "GarageArea     0\n",
            "dtype: int64\n"
          ],
          "name": "stdout"
        }
      ]
    },
    {
      "cell_type": "code",
      "metadata": {
        "id": "l9DUHPjKgI2N"
      },
      "source": [
        "test_dataset = pd.concat([test_dataset,pd.get_dummies(test_dataset['MSSubClass'],prefix='MSSubClass',drop_first=True)],axis=1)\n",
        "test_dataset.drop(['MSSubClass'],axis=1, inplace=True)\n",
        "test_dataset = pd.concat([test_dataset,pd.get_dummies(test_dataset['OverallQual'],prefix='OverallQual',drop_first=True)],axis=1)\n",
        "test_dataset.drop(['OverallQual'],axis=1, inplace=True)\n",
        "test_dataset = pd.concat([test_dataset,pd.get_dummies(test_dataset['OverallCond'],prefix='OverallCond',drop_first=True)],axis=1)\n",
        "test_dataset.drop(['OverallCond'],axis=1, inplace=True)"
      ],
      "execution_count": 397,
      "outputs": []
    },
    {
      "cell_type": "code",
      "metadata": {
        "id": "ajIHgqx7g0Ac",
        "outputId": "d08f9639-a270-42a5-c5a2-7f3ff530c97e",
        "colab": {
          "base_uri": "https://localhost:8080/",
          "height": 252
        }
      },
      "source": [
        "print(test_dataset.iloc[:,1:])"
      ],
      "execution_count": 398,
      "outputs": [
        {
          "output_type": "stream",
          "text": [
            "      LotArea  LotFrontage  ...  OverallCond_9  OverallCond_10\n",
            "0       11622         80.0  ...              0               0\n",
            "1       14267         81.0  ...              0               0\n",
            "2       13830         74.0  ...              0               0\n",
            "3        9978         78.0  ...              0               0\n",
            "4        5005         43.0  ...              0               0\n",
            "...       ...          ...  ...            ...             ...\n",
            "1454     1936         21.0  ...              0               0\n",
            "1455     1894         21.0  ...              0               0\n",
            "1456    20000        160.0  ...              0               0\n",
            "1457    10441         62.0  ...              0               0\n",
            "1458     9627         74.0  ...              0               0\n",
            "\n",
            "[1459 rows x 39 columns]\n"
          ],
          "name": "stdout"
        }
      ]
    },
    {
      "cell_type": "code",
      "metadata": {
        "id": "Xsl_7IJ-hQfM",
        "outputId": "69f764c6-df06-430f-a313-db9908a183a5",
        "colab": {
          "base_uri": "https://localhost:8080/",
          "height": 202
        }
      },
      "source": [
        "test_dataset.columns"
      ],
      "execution_count": 399,
      "outputs": [
        {
          "output_type": "execute_result",
          "data": {
            "text/plain": [
              "Index(['Id', 'LotArea', 'LotFrontage', 'TotalBsmtSF', 'GrLivArea',\n",
              "       'GarageCars', 'GarageArea', 'MSSubClass_30', 'MSSubClass_40',\n",
              "       'MSSubClass_45', 'MSSubClass_50', 'MSSubClass_60', 'MSSubClass_70',\n",
              "       'MSSubClass_75', 'MSSubClass_80', 'MSSubClass_85', 'MSSubClass_90',\n",
              "       'MSSubClass_120', 'MSSubClass_150', 'MSSubClass_160', 'MSSubClass_180',\n",
              "       'MSSubClass_190', 'OverallQual_2', 'OverallQual_3', 'OverallQual_4',\n",
              "       'OverallQual_5', 'OverallQual_6', 'OverallQual_7', 'OverallQual_8',\n",
              "       'OverallQual_9', 'OverallQual_10', 'OverallCond_2', 'OverallCond_3',\n",
              "       'OverallCond_4', 'OverallCond_5', 'OverallCond_6', 'OverallCond_7',\n",
              "       'OverallCond_8', 'OverallCond_9', 'OverallCond_10'],\n",
              "      dtype='object')"
            ]
          },
          "metadata": {
            "tags": []
          },
          "execution_count": 399
        }
      ]
    },
    {
      "cell_type": "code",
      "metadata": {
        "id": "CeMwrVHaBE0i"
      },
      "source": [
        "result = reg.predict(test_dataset.iloc[:,1:])"
      ],
      "execution_count": 400,
      "outputs": []
    },
    {
      "cell_type": "code",
      "metadata": {
        "id": "SOZiDZUSCNDT",
        "outputId": "f1527bd1-45ec-42ec-a1d1-60b68a735610",
        "colab": {
          "base_uri": "https://localhost:8080/",
          "height": 34
        }
      },
      "source": [
        "print(result)"
      ],
      "execution_count": 401,
      "outputs": [
        {
          "output_type": "stream",
          "text": [
            "[133326.151 158546.692 160081.117 ... 168318.434 104021.001 235692.856]\n"
          ],
          "name": "stdout"
        }
      ]
    },
    {
      "cell_type": "code",
      "metadata": {
        "id": "kcrdmmHBCVhj"
      },
      "source": [
        "ans=pd.DataFrame({'SalePrice':result})\n",
        "submission = pd.concat([test_dataset['Id'],ans],axis=1)\n",
        "submission.to_csv('/content/drive/My Drive/Datasci/outputrandom_forest10.csv', index=False)"
      ],
      "execution_count": 402,
      "outputs": []
    }
  ]
}